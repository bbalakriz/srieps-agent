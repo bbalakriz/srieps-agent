{
 "cells": [
  {
   "cell_type": "markdown",
   "metadata": {},
   "source": [
    "## 1. Install the llama stack client"
   ]
  },
  {
   "cell_type": "code",
   "execution_count": 192,
   "metadata": {},
   "outputs": [
    {
     "name": "stdout",
     "output_type": "stream",
     "text": [
      "Collecting llama_stack==0.2.20\n",
      "  Using cached llama_stack-0.2.20-py3-none-any.whl.metadata (15 kB)\n",
      "Requirement already satisfied: aiohttp in /Users/bbalasub/Projects/sreips/.venv/lib/python3.12/site-packages (from llama_stack==0.2.20) (3.13.1)\n",
      "Requirement already satisfied: fastapi<1.0,>=0.115.0 in /Users/bbalasub/Projects/sreips/.venv/lib/python3.12/site-packages (from llama_stack==0.2.20) (0.119.1)\n",
      "Requirement already satisfied: fire in /Users/bbalasub/Projects/sreips/.venv/lib/python3.12/site-packages (from llama_stack==0.2.20) (0.7.1)\n",
      "Requirement already satisfied: httpx in /Users/bbalasub/Projects/sreips/.venv/lib/python3.12/site-packages (from llama_stack==0.2.20) (0.28.1)\n",
      "Requirement already satisfied: huggingface-hub<1.0,>=0.34.0 in /Users/bbalasub/Projects/sreips/.venv/lib/python3.12/site-packages (from llama_stack==0.2.20) (0.35.3)\n",
      "Requirement already satisfied: jinja2>=3.1.6 in /Users/bbalasub/Projects/sreips/.venv/lib/python3.12/site-packages (from llama_stack==0.2.20) (3.1.6)\n",
      "Requirement already satisfied: jsonschema in /Users/bbalasub/Projects/sreips/.venv/lib/python3.12/site-packages (from llama_stack==0.2.20) (4.25.1)\n",
      "Requirement already satisfied: llama-stack-client>=0.2.20 in /Users/bbalasub/Projects/sreips/.venv/lib/python3.12/site-packages (from llama_stack==0.2.20) (0.2.23)\n",
      "Requirement already satisfied: llama-api-client>=0.1.2 in /Users/bbalasub/Projects/sreips/.venv/lib/python3.12/site-packages (from llama_stack==0.2.20) (0.5.0)\n",
      "Requirement already satisfied: openai<1.100.0,>=1.99.6 in /Users/bbalasub/Projects/sreips/.venv/lib/python3.12/site-packages (from llama_stack==0.2.20) (1.99.9)\n",
      "Requirement already satisfied: prompt-toolkit in /Users/bbalasub/Projects/sreips/.venv/lib/python3.12/site-packages (from llama_stack==0.2.20) (3.0.52)\n",
      "Requirement already satisfied: python-dotenv in /Users/bbalasub/Projects/sreips/.venv/lib/python3.12/site-packages (from llama_stack==0.2.20) (1.1.1)\n",
      "Requirement already satisfied: python-jose[cryptography] in /Users/bbalasub/Projects/sreips/.venv/lib/python3.12/site-packages (from llama_stack==0.2.20) (3.5.0)\n",
      "Requirement already satisfied: pydantic>=2 in /Users/bbalasub/Projects/sreips/.venv/lib/python3.12/site-packages (from llama_stack==0.2.20) (2.12.3)\n",
      "Requirement already satisfied: rich in /Users/bbalasub/Projects/sreips/.venv/lib/python3.12/site-packages (from llama_stack==0.2.20) (14.2.0)\n",
      "Requirement already satisfied: starlette in /Users/bbalasub/Projects/sreips/.venv/lib/python3.12/site-packages (from llama_stack==0.2.20) (0.48.0)\n",
      "Requirement already satisfied: termcolor in /Users/bbalasub/Projects/sreips/.venv/lib/python3.12/site-packages (from llama_stack==0.2.20) (3.1.0)\n",
      "Requirement already satisfied: tiktoken in /Users/bbalasub/Projects/sreips/.venv/lib/python3.12/site-packages (from llama_stack==0.2.20) (0.12.0)\n",
      "Requirement already satisfied: pillow in /Users/bbalasub/Projects/sreips/.venv/lib/python3.12/site-packages (from llama_stack==0.2.20) (12.0.0)\n",
      "Requirement already satisfied: h11>=0.16.0 in /Users/bbalasub/Projects/sreips/.venv/lib/python3.12/site-packages (from llama_stack==0.2.20) (0.16.0)\n",
      "Requirement already satisfied: python-multipart>=0.0.20 in /Users/bbalasub/Projects/sreips/.venv/lib/python3.12/site-packages (from llama_stack==0.2.20) (0.0.20)\n",
      "Requirement already satisfied: uvicorn>=0.34.0 in /Users/bbalasub/Projects/sreips/.venv/lib/python3.12/site-packages (from llama_stack==0.2.20) (0.38.0)\n",
      "Requirement already satisfied: opentelemetry-sdk>=1.30.0 in /Users/bbalasub/Projects/sreips/.venv/lib/python3.12/site-packages (from llama_stack==0.2.20) (1.38.0)\n",
      "Requirement already satisfied: opentelemetry-exporter-otlp-proto-http>=1.30.0 in /Users/bbalasub/Projects/sreips/.venv/lib/python3.12/site-packages (from llama_stack==0.2.20) (1.38.0)\n",
      "Requirement already satisfied: aiosqlite>=0.21.0 in /Users/bbalasub/Projects/sreips/.venv/lib/python3.12/site-packages (from llama_stack==0.2.20) (0.21.0)\n",
      "Requirement already satisfied: asyncpg in /Users/bbalasub/Projects/sreips/.venv/lib/python3.12/site-packages (from llama_stack==0.2.20) (0.30.0)\n",
      "Requirement already satisfied: typing-extensions>=4.8.0 in /Users/bbalasub/Projects/sreips/.venv/lib/python3.12/site-packages (from fastapi<1.0,>=0.115.0->llama_stack==0.2.20) (4.15.0)\n",
      "Requirement already satisfied: filelock in /Users/bbalasub/Projects/sreips/.venv/lib/python3.12/site-packages (from huggingface-hub<1.0,>=0.34.0->llama_stack==0.2.20) (3.20.0)\n",
      "Requirement already satisfied: fsspec>=2023.5.0 in /Users/bbalasub/Projects/sreips/.venv/lib/python3.12/site-packages (from huggingface-hub<1.0,>=0.34.0->llama_stack==0.2.20) (2025.9.0)\n",
      "Requirement already satisfied: packaging>=20.9 in /Users/bbalasub/Projects/sreips/.venv/lib/python3.12/site-packages (from huggingface-hub<1.0,>=0.34.0->llama_stack==0.2.20) (25.0)\n",
      "Requirement already satisfied: pyyaml>=5.1 in /Users/bbalasub/Projects/sreips/.venv/lib/python3.12/site-packages (from huggingface-hub<1.0,>=0.34.0->llama_stack==0.2.20) (6.0.3)\n",
      "Requirement already satisfied: requests in /Users/bbalasub/Projects/sreips/.venv/lib/python3.12/site-packages (from huggingface-hub<1.0,>=0.34.0->llama_stack==0.2.20) (2.32.5)\n",
      "Requirement already satisfied: tqdm>=4.42.1 in /Users/bbalasub/Projects/sreips/.venv/lib/python3.12/site-packages (from huggingface-hub<1.0,>=0.34.0->llama_stack==0.2.20) (4.67.1)\n",
      "Requirement already satisfied: hf-xet<2.0.0,>=1.1.3 in /Users/bbalasub/Projects/sreips/.venv/lib/python3.12/site-packages (from huggingface-hub<1.0,>=0.34.0->llama_stack==0.2.20) (1.1.10)\n",
      "Requirement already satisfied: anyio<5,>=3.5.0 in /Users/bbalasub/Projects/sreips/.venv/lib/python3.12/site-packages (from openai<1.100.0,>=1.99.6->llama_stack==0.2.20) (4.11.0)\n",
      "Requirement already satisfied: distro<2,>=1.7.0 in /Users/bbalasub/Projects/sreips/.venv/lib/python3.12/site-packages (from openai<1.100.0,>=1.99.6->llama_stack==0.2.20) (1.9.0)\n",
      "Requirement already satisfied: jiter<1,>=0.4.0 in /Users/bbalasub/Projects/sreips/.venv/lib/python3.12/site-packages (from openai<1.100.0,>=1.99.6->llama_stack==0.2.20) (0.11.1)\n",
      "Requirement already satisfied: sniffio in /Users/bbalasub/Projects/sreips/.venv/lib/python3.12/site-packages (from openai<1.100.0,>=1.99.6->llama_stack==0.2.20) (1.3.1)\n",
      "Requirement already satisfied: idna>=2.8 in /Users/bbalasub/Projects/sreips/.venv/lib/python3.12/site-packages (from anyio<5,>=3.5.0->openai<1.100.0,>=1.99.6->llama_stack==0.2.20) (3.11)\n",
      "Requirement already satisfied: certifi in /Users/bbalasub/Projects/sreips/.venv/lib/python3.12/site-packages (from httpx->llama_stack==0.2.20) (2025.10.5)\n",
      "Requirement already satisfied: httpcore==1.* in /Users/bbalasub/Projects/sreips/.venv/lib/python3.12/site-packages (from httpx->llama_stack==0.2.20) (1.0.9)\n",
      "Requirement already satisfied: annotated-types>=0.6.0 in /Users/bbalasub/Projects/sreips/.venv/lib/python3.12/site-packages (from pydantic>=2->llama_stack==0.2.20) (0.7.0)\n",
      "Requirement already satisfied: pydantic-core==2.41.4 in /Users/bbalasub/Projects/sreips/.venv/lib/python3.12/site-packages (from pydantic>=2->llama_stack==0.2.20) (2.41.4)\n",
      "Requirement already satisfied: typing-inspection>=0.4.2 in /Users/bbalasub/Projects/sreips/.venv/lib/python3.12/site-packages (from pydantic>=2->llama_stack==0.2.20) (0.4.2)\n",
      "Requirement already satisfied: MarkupSafe>=2.0 in /Users/bbalasub/Projects/sreips/.venv/lib/python3.12/site-packages (from jinja2>=3.1.6->llama_stack==0.2.20) (3.0.3)\n",
      "Requirement already satisfied: click in /Users/bbalasub/Projects/sreips/.venv/lib/python3.12/site-packages (from llama-stack-client>=0.2.20->llama_stack==0.2.20) (8.3.0)\n",
      "Requirement already satisfied: pandas in /Users/bbalasub/Projects/sreips/.venv/lib/python3.12/site-packages (from llama-stack-client>=0.2.20->llama_stack==0.2.20) (2.3.3)\n",
      "Requirement already satisfied: pyaml in /Users/bbalasub/Projects/sreips/.venv/lib/python3.12/site-packages (from llama-stack-client>=0.2.20->llama_stack==0.2.20) (25.7.0)\n",
      "Requirement already satisfied: googleapis-common-protos~=1.52 in /Users/bbalasub/Projects/sreips/.venv/lib/python3.12/site-packages (from opentelemetry-exporter-otlp-proto-http>=1.30.0->llama_stack==0.2.20) (1.71.0)\n",
      "Requirement already satisfied: opentelemetry-api~=1.15 in /Users/bbalasub/Projects/sreips/.venv/lib/python3.12/site-packages (from opentelemetry-exporter-otlp-proto-http>=1.30.0->llama_stack==0.2.20) (1.38.0)\n",
      "Requirement already satisfied: opentelemetry-exporter-otlp-proto-common==1.38.0 in /Users/bbalasub/Projects/sreips/.venv/lib/python3.12/site-packages (from opentelemetry-exporter-otlp-proto-http>=1.30.0->llama_stack==0.2.20) (1.38.0)\n",
      "Requirement already satisfied: opentelemetry-proto==1.38.0 in /Users/bbalasub/Projects/sreips/.venv/lib/python3.12/site-packages (from opentelemetry-exporter-otlp-proto-http>=1.30.0->llama_stack==0.2.20) (1.38.0)\n",
      "Requirement already satisfied: protobuf<7.0,>=5.0 in /Users/bbalasub/Projects/sreips/.venv/lib/python3.12/site-packages (from opentelemetry-proto==1.38.0->opentelemetry-exporter-otlp-proto-http>=1.30.0->llama_stack==0.2.20) (6.33.0)\n",
      "Requirement already satisfied: importlib-metadata<8.8.0,>=6.0 in /Users/bbalasub/Projects/sreips/.venv/lib/python3.12/site-packages (from opentelemetry-api~=1.15->opentelemetry-exporter-otlp-proto-http>=1.30.0->llama_stack==0.2.20) (8.7.0)\n",
      "Requirement already satisfied: zipp>=3.20 in /Users/bbalasub/Projects/sreips/.venv/lib/python3.12/site-packages (from importlib-metadata<8.8.0,>=6.0->opentelemetry-api~=1.15->opentelemetry-exporter-otlp-proto-http>=1.30.0->llama_stack==0.2.20) (3.23.0)\n",
      "Requirement already satisfied: opentelemetry-semantic-conventions==0.59b0 in /Users/bbalasub/Projects/sreips/.venv/lib/python3.12/site-packages (from opentelemetry-sdk>=1.30.0->llama_stack==0.2.20) (0.59b0)\n",
      "Requirement already satisfied: charset_normalizer<4,>=2 in /Users/bbalasub/Projects/sreips/.venv/lib/python3.12/site-packages (from requests->huggingface-hub<1.0,>=0.34.0->llama_stack==0.2.20) (3.4.4)\n",
      "Requirement already satisfied: urllib3<3,>=1.21.1 in /Users/bbalasub/Projects/sreips/.venv/lib/python3.12/site-packages (from requests->huggingface-hub<1.0,>=0.34.0->llama_stack==0.2.20) (2.5.0)\n",
      "Requirement already satisfied: aiohappyeyeballs>=2.5.0 in /Users/bbalasub/Projects/sreips/.venv/lib/python3.12/site-packages (from aiohttp->llama_stack==0.2.20) (2.6.1)\n",
      "Requirement already satisfied: aiosignal>=1.4.0 in /Users/bbalasub/Projects/sreips/.venv/lib/python3.12/site-packages (from aiohttp->llama_stack==0.2.20) (1.4.0)\n",
      "Requirement already satisfied: attrs>=17.3.0 in /Users/bbalasub/Projects/sreips/.venv/lib/python3.12/site-packages (from aiohttp->llama_stack==0.2.20) (25.4.0)\n",
      "Requirement already satisfied: frozenlist>=1.1.1 in /Users/bbalasub/Projects/sreips/.venv/lib/python3.12/site-packages (from aiohttp->llama_stack==0.2.20) (1.8.0)\n",
      "Requirement already satisfied: multidict<7.0,>=4.5 in /Users/bbalasub/Projects/sreips/.venv/lib/python3.12/site-packages (from aiohttp->llama_stack==0.2.20) (6.7.0)\n",
      "Requirement already satisfied: propcache>=0.2.0 in /Users/bbalasub/Projects/sreips/.venv/lib/python3.12/site-packages (from aiohttp->llama_stack==0.2.20) (0.4.1)\n",
      "Requirement already satisfied: yarl<2.0,>=1.17.0 in /Users/bbalasub/Projects/sreips/.venv/lib/python3.12/site-packages (from aiohttp->llama_stack==0.2.20) (1.22.0)\n",
      "Requirement already satisfied: jsonschema-specifications>=2023.03.6 in /Users/bbalasub/Projects/sreips/.venv/lib/python3.12/site-packages (from jsonschema->llama_stack==0.2.20) (2025.9.1)\n",
      "Requirement already satisfied: referencing>=0.28.4 in /Users/bbalasub/Projects/sreips/.venv/lib/python3.12/site-packages (from jsonschema->llama_stack==0.2.20) (0.37.0)\n",
      "Requirement already satisfied: rpds-py>=0.7.1 in /Users/bbalasub/Projects/sreips/.venv/lib/python3.12/site-packages (from jsonschema->llama_stack==0.2.20) (0.27.1)\n",
      "Requirement already satisfied: numpy>=1.26.0 in /Users/bbalasub/Projects/sreips/.venv/lib/python3.12/site-packages (from pandas->llama-stack-client>=0.2.20->llama_stack==0.2.20) (2.2.6)\n",
      "Requirement already satisfied: python-dateutil>=2.8.2 in /Users/bbalasub/Projects/sreips/.venv/lib/python3.12/site-packages (from pandas->llama-stack-client>=0.2.20->llama_stack==0.2.20) (2.9.0.post0)\n",
      "Requirement already satisfied: pytz>=2020.1 in /Users/bbalasub/Projects/sreips/.venv/lib/python3.12/site-packages (from pandas->llama-stack-client>=0.2.20->llama_stack==0.2.20) (2025.2)\n",
      "Requirement already satisfied: tzdata>=2022.7 in /Users/bbalasub/Projects/sreips/.venv/lib/python3.12/site-packages (from pandas->llama-stack-client>=0.2.20->llama_stack==0.2.20) (2025.2)\n",
      "Requirement already satisfied: six>=1.5 in /Users/bbalasub/Projects/sreips/.venv/lib/python3.12/site-packages (from python-dateutil>=2.8.2->pandas->llama-stack-client>=0.2.20->llama_stack==0.2.20) (1.17.0)\n",
      "Requirement already satisfied: wcwidth in /Users/bbalasub/Projects/sreips/.venv/lib/python3.12/site-packages (from prompt-toolkit->llama_stack==0.2.20) (0.2.14)\n",
      "Requirement already satisfied: ecdsa!=0.15 in /Users/bbalasub/Projects/sreips/.venv/lib/python3.12/site-packages (from python-jose[cryptography]->llama_stack==0.2.20) (0.19.1)\n",
      "Requirement already satisfied: rsa!=4.1.1,!=4.4,<5.0,>=4.0 in /Users/bbalasub/Projects/sreips/.venv/lib/python3.12/site-packages (from python-jose[cryptography]->llama_stack==0.2.20) (4.9.1)\n",
      "Requirement already satisfied: pyasn1>=0.5.0 in /Users/bbalasub/Projects/sreips/.venv/lib/python3.12/site-packages (from python-jose[cryptography]->llama_stack==0.2.20) (0.6.1)\n",
      "Requirement already satisfied: cryptography>=3.4.0 in /Users/bbalasub/Projects/sreips/.venv/lib/python3.12/site-packages (from python-jose[cryptography]->llama_stack==0.2.20) (46.0.3)\n",
      "Requirement already satisfied: cffi>=2.0.0 in /Users/bbalasub/Projects/sreips/.venv/lib/python3.12/site-packages (from cryptography>=3.4.0->python-jose[cryptography]->llama_stack==0.2.20) (2.0.0)\n",
      "Requirement already satisfied: pycparser in /Users/bbalasub/Projects/sreips/.venv/lib/python3.12/site-packages (from cffi>=2.0.0->cryptography>=3.4.0->python-jose[cryptography]->llama_stack==0.2.20) (2.23)\n",
      "Requirement already satisfied: markdown-it-py>=2.2.0 in /Users/bbalasub/Projects/sreips/.venv/lib/python3.12/site-packages (from rich->llama_stack==0.2.20) (4.0.0)\n",
      "Requirement already satisfied: pygments<3.0.0,>=2.13.0 in /Users/bbalasub/Projects/sreips/.venv/lib/python3.12/site-packages (from rich->llama_stack==0.2.20) (2.19.2)\n",
      "Requirement already satisfied: mdurl~=0.1 in /Users/bbalasub/Projects/sreips/.venv/lib/python3.12/site-packages (from markdown-it-py>=2.2.0->rich->llama_stack==0.2.20) (0.1.2)\n",
      "Requirement already satisfied: regex>=2022.1.18 in /Users/bbalasub/Projects/sreips/.venv/lib/python3.12/site-packages (from tiktoken->llama_stack==0.2.20) (2025.10.22)\n",
      "Using cached llama_stack-0.2.20-py3-none-any.whl (3.7 MB)\n",
      "Installing collected packages: llama_stack\n",
      "  Attempting uninstall: llama_stack\n",
      "    Found existing installation: llama_stack 0.2.12\n",
      "    Uninstalling llama_stack-0.2.12:\n",
      "      Successfully uninstalled llama_stack-0.2.12\n",
      "Successfully installed llama_stack-0.2.20\n",
      "Note: you may need to restart the kernel to use updated packages.\n"
     ]
    }
   ],
   "source": [
    "%pip install llama_stack==0.2.20 llama-stack-client==0.2.20"
   ]
  },
  {
   "cell_type": "markdown",
   "metadata": {},
   "source": [
    "## 2. List available models"
   ]
  },
  {
   "cell_type": "code",
   "execution_count": 2,
   "metadata": {},
   "outputs": [
    {
     "name": "stderr",
     "output_type": "stream",
     "text": [
      "INFO:httpx:HTTP Request: GET https://lsd-llama-milvus-service-llamastack.apps.cluster-mqt5h.mqt5h.sandbox2228.opentlc.com/v1/models \"HTTP/1.1 200 OK\"\n"
     ]
    },
    {
     "data": {
      "text/plain": [
       "[Model(identifier='Llama-4-Scout-17B-16E-W4A16', metadata={}, api_model_type='llm', provider_id='vllm-inference', type='model', provider_resource_id='Llama-4-Scout-17B-16E-W4A16', model_type='llm'),\n",
       " Model(identifier='granite-embedding-125m', metadata={'embedding_dimension': 768.0}, api_model_type='embedding', provider_id='sentence-transformers', type='model', provider_resource_id='ibm-granite/granite-embedding-125m-english', model_type='embedding')]"
      ]
     },
     "execution_count": 2,
     "metadata": {},
     "output_type": "execute_result"
    }
   ],
   "source": [
    "from llama_stack_client import LlamaStackClient\n",
    "\n",
    "client = LlamaStackClient(base_url=\"https://lsd-llama-milvus-service-llamastack.apps.cluster-mqt5h.mqt5h.sandbox2228.opentlc.com/\")\n",
    "client.models.list()"
   ]
  },
  {
   "cell_type": "markdown",
   "metadata": {},
   "source": [
    "## 3. Import and run the KubeFlow Pipeline\n",
    "Import the \"[docling-pipeline_compiled.yaml](./docling-pipeline_compiled.yaml)\" KubeFlow Pipeline into your pipeline server, then run the pipeline to insert your PDF documents into the vector database.\n",
    "\n",
    "When running the pipeline, you can customize the following parameters:\n",
    "\n",
    "- `base_url`: Base URL to fetch PDF files from\n",
    "- `pdf_filenames`: Comma-separated list of PDF filenames to download and convert\n",
    "- `num_workers`: Number of parallel workers\n",
    "- `vector_db_id`: Milvus vector database ID\n",
    "- `service_url`: Milvus service URL\n",
    "- `embed_model_id`: Embedding model to use\n",
    "- `max_tokens`: Maximum tokens per chunk\n",
    "- `use_gpu`: Enable/disable GPU acceleration\n",
    "\n",
    "Compile the ingestion pipeline, by installing `pip install kfp==2.14.1 kfp-kubernetes==2.14.0`\n",
    "\n",
    "Note: The compiled pipeline was generated by running `python docling-pipeline.py`."
   ]
  },
  {
   "cell_type": "markdown",
   "metadata": {},
   "source": [
    "## 4. Is Milvus registered with LlamaStack from ingestion pipeline?"
   ]
  },
  {
   "cell_type": "code",
   "execution_count": 4,
   "metadata": {},
   "outputs": [
    {
     "name": "stderr",
     "output_type": "stream",
     "text": [
      "INFO:httpx:HTTP Request: GET https://lsd-llama-milvus-service-llamastack.apps.cluster-mqt5h.mqt5h.sandbox2228.opentlc.com/v1/models \"HTTP/1.1 200 OK\"\n"
     ]
    },
    {
     "name": "stdout",
     "output_type": "stream",
     "text": [
      "[Model(identifier='Llama-4-Scout-17B-16E-W4A16', metadata={}, api_model_type='llm', provider_id='vllm-inference', type='model', provider_resource_id='Llama-4-Scout-17B-16E-W4A16', model_type='llm'), Model(identifier='granite-embedding-125m', metadata={'embedding_dimension': 768.0}, api_model_type='embedding', provider_id='sentence-transformers', type='model', provider_resource_id='ibm-granite/granite-embedding-125m-english', model_type='embedding')]\n"
     ]
    },
    {
     "name": "stderr",
     "output_type": "stream",
     "text": [
      "INFO:httpx:HTTP Request: GET https://lsd-llama-milvus-service-llamastack.apps.cluster-mqt5h.mqt5h.sandbox2228.opentlc.com/v1/vector-dbs \"HTTP/1.1 200 OK\"\n"
     ]
    },
    {
     "name": "stdout",
     "output_type": "stream",
     "text": [
      "[VectorDBListResponseItem(embedding_dimension=768, embedding_model='granite-embedding-125m', identifier='sreips_vector_id', provider_id='milvus', type='vector_db', provider_resource_id='sreips_vector_id', vector_db_name=None)]\n"
     ]
    }
   ],
   "source": [
    "from llama_stack_client import Agent, AgentEventLogger, LlamaStackClient\n",
    "\n",
    "vector_db_id = \"sreips_vector_id\"\n",
    "client = LlamaStackClient(base_url=\"https://lsd-llama-milvus-service-llamastack.apps.cluster-mqt5h.mqt5h.sandbox2228.opentlc.com/\")\n",
    "\n",
    "models = client.models.list()\n",
    "model_id = next(m for m in models if m.model_type == \"llm\").identifier\n",
    "\n",
    "print(models)\n",
    "print(client.vector_dbs.list())"
   ]
  },
  {
   "cell_type": "markdown",
   "metadata": {},
   "source": [
    "## 5. Register the RH KCS MCP Server"
   ]
  },
  {
   "cell_type": "code",
   "execution_count": 5,
   "metadata": {},
   "outputs": [
    {
     "name": "stderr",
     "output_type": "stream",
     "text": [
      "INFO:httpx:HTTP Request: POST https://lsd-llama-milvus-service-llamastack.apps.cluster-mqt5h.mqt5h.sandbox2228.opentlc.com/v1/toolgroups \"HTTP/1.1 200 OK\"\n"
     ]
    }
   ],
   "source": [
    "client.toolgroups.register(\n",
    "    toolgroup_id=\"mcp::rh-kcs-mcp\",\n",
    "    provider_id=\"model-context-protocol\",\n",
    "    mcp_endpoint={\"uri\" : \"https://rh-kcs-mcp-servers.apps.cluster-mqt5h.mqt5h.sandbox2228.opentlc.com/sse\"},\n",
    ")"
   ]
  },
  {
   "cell_type": "code",
   "execution_count": 6,
   "metadata": {},
   "outputs": [
    {
     "name": "stderr",
     "output_type": "stream",
     "text": [
      "INFO:httpx:HTTP Request: GET https://lsd-llama-milvus-service-llamastack.apps.cluster-mqt5h.mqt5h.sandbox2228.opentlc.com/v1/toolgroups \"HTTP/1.1 200 OK\"\n"
     ]
    },
    {
     "data": {
      "text/plain": [
       "[ToolGroup(identifier='builtin::websearch', provider_id='tavily-search', type='tool_group', args=None, mcp_endpoint=None, provider_resource_id='builtin::websearch'),\n",
       " ToolGroup(identifier='builtin::rag', provider_id='rag-runtime', type='tool_group', args=None, mcp_endpoint=None, provider_resource_id='builtin::rag'),\n",
       " ToolGroup(identifier='mcp::rh-kcs-mcp', provider_id='model-context-protocol', type='tool_group', args=None, mcp_endpoint=McpEndpoint(uri='https://rh-kcs-mcp-servers.apps.cluster-mqt5h.mqt5h.sandbox2228.opentlc.com/sse'), provider_resource_id='mcp::rh-kcs-mcp')]"
      ]
     },
     "execution_count": 6,
     "metadata": {},
     "output_type": "execute_result"
    }
   ],
   "source": [
    "client.toolgroups.list()"
   ]
  },
  {
   "cell_type": "markdown",
   "metadata": {},
   "source": [
    "## 6. Execute both the agents in sequence\n",
    "Prompt LLama 4 with a question in relation to the document inserted and execute the rag_agent"
   ]
  },
  {
   "cell_type": "code",
   "execution_count": 9,
   "metadata": {},
   "outputs": [
    {
     "name": "stderr",
     "output_type": "stream",
     "text": [
      "INFO:httpx:HTTP Request: POST https://lsd-llama-milvus-service-llamastack.apps.cluster-mqt5h.mqt5h.sandbox2228.opentlc.com/v1/agents \"HTTP/1.1 200 OK\"\n",
      "INFO:httpx:HTTP Request: GET https://lsd-llama-milvus-service-llamastack.apps.cluster-mqt5h.mqt5h.sandbox2228.opentlc.com/v1/tools?toolgroup_id=builtin%3A%3Arag%2Fknowledge_search \"HTTP/1.1 200 OK\"\n",
      "INFO:httpx:HTTP Request: GET https://lsd-llama-milvus-service-llamastack.apps.cluster-mqt5h.mqt5h.sandbox2228.opentlc.com/v1/tools?toolgroup_id=mcp%3A%3Arh-kcs-mcp \"HTTP/1.1 200 OK\"\n"
     ]
    },
    {
     "name": "stdout",
     "output_type": "stream",
     "text": [
      "prompt> crashloop backoff in openshift?\n"
     ]
    },
    {
     "name": "stderr",
     "output_type": "stream",
     "text": [
      "INFO:httpx:HTTP Request: POST https://lsd-llama-milvus-service-llamastack.apps.cluster-mqt5h.mqt5h.sandbox2228.opentlc.com/v1/agents/494a8324-cd5b-4c09-a022-2adf26c597f0/session \"HTTP/1.1 200 OK\"\n",
      "INFO:httpx:HTTP Request: POST https://lsd-llama-milvus-service-llamastack.apps.cluster-mqt5h.mqt5h.sandbox2228.opentlc.com/v1/agents/494a8324-cd5b-4c09-a022-2adf26c597f0/session/84c9c8bf-1136-46d6-be92-424e66f3c49c/turn \"HTTP/1.1 200 OK\"\n"
     ]
    },
    {
     "name": "stdout",
     "output_type": "stream",
     "text": [
      "\u001b[33minference> \u001b[0m\u001b[33m\u001b[0m\u001b[97m\u001b[0m\n",
      "\u001b[32mtool_execution> Tool:knowledge_search Args:{'query': 'crashloop backoff in openshift'}\u001b[0m\n",
      "\u001b[32mtool_execution> Tool:knowledge_search Response:[TextContentItem(text='knowledge_search tool found 5 chunks:\\nBEGIN of knowledge_search tool results.\\n', type='text'), TextContentItem(text=\"Result 1\\nContent: 1. Playbook: Troubleshooting Pod CrashLoopBackOff\\nSummary This state indicates that a pod's container is starting, crashing, and then being restarted by OpenShift, in a continuous loop. The pod's status will show CrashLoopBackOff .\\nMetadata: {'chunk_id': '3beb065e-decf-48b4-9bbe-8382aa062baf', 'document_id': 'SREIPS-Prod-troubleshooting-Knowledge-Base', 'file_name': 'SREIPS-Prod-troubleshooting-Knowledge-Base'}\\n\", type='text'), TextContentItem(text='Result 2\\nContent: Diagnostic Playbook\\n1. Check Pod Status: Identify the failing pod.\\n```\\nNone oc get pods -n <namespace>\\n```\\n2. Describe the Pod: This shows the reason for the current state and any events.\\n- Look at the Events section for clues.\\n- Look at the Last State section. It will often show Reason: Error and an Exit Code .\\n3. Check Logs (Previous Container): This is the most critical step. A pod in CrashLoopBackOff is constantly restarting, so its current logs are often empty. You must check the logs from the previous terminated container.\\n```\\nNone oc describe pod <pod-name> -n <namespace>\\n```\\n```\\nNone\\n```\\noc logs <pod-name> -n <namespace> --previous\\n- This log will almost always contain the fatal error that caused the crash (e.g., \"Error: PAYMENT_API_KEY environment variable not set\").\\nMetadata: {\\'chunk_id\\': \\'55a91392-ddb1-45ca-a0f7-a5585f685a7b\\', \\'document_id\\': \\'SREIPS-Prod-troubleshooting-Knowledge-Base\\', \\'file_name\\': \\'SREIPS-Prod-troubleshooting-Knowledge-Base\\'}\\n', type='text'), TextContentItem(text='Result 3\\nContent: 3. Check Metrics (OpenShift Monitoring):\\n- Go to the OpenShift Console > Observe > Metrics.\\n- Run a query for container_memory_usage_bytes{pod=\"<pod-name>\", namespace=\"<namespace>\"} .\\n- You will see a \"sawtooth\" pattern: the memory climbs, hits the limit, and then drops to zero as the container is killed and restarts.\\n4. Check Logs: Check the logs from the previous container.\\nNone oc logs <pod-name> -n <namespace> --previous\\n- You often won\\'t see a \"crash\" error, just an abrupt end to the log stream. For Java apps, you might see an java.lang.OutOfMemoryError if it was the JVM heap that was filled, but an OOMKill can happen before the JVM heap is exhausted.\\nMetadata: {\\'chunk_id\\': \\'63f5955a-199a-45e1-a160-a37e3fff8f16\\', \\'document_id\\': \\'SREIPS-Prod-troubleshooting-Knowledge-Base\\', \\'file_name\\': \\'SREIPS-Prod-troubleshooting-Knowledge-Base\\'}\\n', type='text'), TextContentItem(text=\"Result 4\\nContent: Common Root Causes\\n- Missing Configuration: The application crashes because a required environment variable, ConfigMap, or Secret is missing or incorrect.\\n- Application Error: The application itself is failing on startup (e.g., code panic, invalid configuration file, failed database connection).\\n- Failed Liveness/Readiness Probes: The probes are misconfigured (e.g., wrong port, bad health check endpoint, timeout too low), causing OpenShift to kill the pod.\\n- Incorrect Container command or args : The entrypoint for the container is invalid or pointing to a non-existent file.\\nMetadata: {'chunk_id': 'bebcdb73-56ae-4b78-96a5-4ff126360e3b', 'document_id': 'SREIPS-Prod-troubleshooting-Knowledge-Base', 'file_name': 'SREIPS-Prod-troubleshooting-Knowledge-Base'}\\n\", type='text'), TextContentItem(text='Result 5\\nContent: Incident Example (APP-01)\\n- Summary: payment-service pods entered CrashLoopBackOff .\\n- Root Cause: oc logs --previous showed \"Fatal error: Database connection failed\". A ConfigMap update had applied an incorrect database URL.\\n- Resolution: The ConfigMap was corrected, and the DeploymentConfig was re-deployed with oc rollout latest dc/payment-service .\\nMetadata: {\\'chunk_id\\': \\'6bc0593f-b648-4e23-be0a-c52d82d72c8f\\', \\'document_id\\': \\'SREIPS-Prod-troubleshooting-Knowledge-Base\\', \\'file_name\\': \\'SREIPS-Prod-troubleshooting-Knowledge-Base\\'}\\n', type='text'), TextContentItem(text='END of knowledge_search tool results.\\n', type='text'), TextContentItem(text='The above results were retrieved to help answer the user\\'s query: \"crashloop backoff in openshift\". Use them as supporting information only in answering this query.\\n', type='text')]\u001b[0m\n",
      "\u001b[33minference> \u001b[0m\u001b[33mA\u001b[0m\u001b[33m Crash\u001b[0m\u001b[33mLoop\u001b[0m\u001b[33mBack\u001b[0m\u001b[33mOff\u001b[0m\u001b[33m in\u001b[0m\u001b[33m Open\u001b[0m\u001b[33mShift\u001b[0m\u001b[33m indicates\u001b[0m\u001b[33m that\u001b[0m\u001b[33m a\u001b[0m\u001b[33m pod\u001b[0m\u001b[33m's\u001b[0m\u001b[33m container\u001b[0m\u001b[33m is\u001b[0m\u001b[33m starting\u001b[0m\u001b[33m,\u001b[0m\u001b[33m crashing\u001b[0m\u001b[33m,\u001b[0m\u001b[33m and\u001b[0m\u001b[33m then\u001b[0m\u001b[33m being\u001b[0m\u001b[33m restarted\u001b[0m\u001b[33m by\u001b[0m\u001b[33m Open\u001b[0m\u001b[33mShift\u001b[0m\u001b[33m,\u001b[0m\u001b[33m in\u001b[0m\u001b[33m a\u001b[0m\u001b[33m continuous\u001b[0m\u001b[33m loop\u001b[0m\u001b[33m.\u001b[0m\u001b[33m This\u001b[0m\u001b[33m state\u001b[0m\u001b[33m is\u001b[0m\u001b[33m often\u001b[0m\u001b[33m caused\u001b[0m\u001b[33m by\u001b[0m\u001b[33m a\u001b[0m\u001b[33m variety\u001b[0m\u001b[33m of\u001b[0m\u001b[33m issues\u001b[0m\u001b[33m,\u001b[0m\u001b[33m including\u001b[0m\u001b[33m:\n",
      "\n",
      "\u001b[0m\u001b[33m1\u001b[0m\u001b[33m.\u001b[0m\u001b[33m **\u001b[0m\u001b[33mMissing\u001b[0m\u001b[33m Configuration\u001b[0m\u001b[33m**:\u001b[0m\u001b[33m The\u001b[0m\u001b[33m application\u001b[0m\u001b[33m crashes\u001b[0m\u001b[33m because\u001b[0m\u001b[33m a\u001b[0m\u001b[33m required\u001b[0m\u001b[33m environment\u001b[0m\u001b[33m variable\u001b[0m\u001b[33m,\u001b[0m\u001b[33m Config\u001b[0m\u001b[33mMap\u001b[0m\u001b[33m,\u001b[0m\u001b[33m or\u001b[0m\u001b[33m Secret\u001b[0m\u001b[33m is\u001b[0m\u001b[33m missing\u001b[0m\u001b[33m or\u001b[0m\u001b[33m incorrect\u001b[0m\u001b[33m.\n",
      "\u001b[0m\u001b[33m2\u001b[0m\u001b[33m.\u001b[0m\u001b[33m **\u001b[0m\u001b[33mApplication\u001b[0m\u001b[33m Error\u001b[0m\u001b[33m**:\u001b[0m\u001b[33m The\u001b[0m\u001b[33m application\u001b[0m\u001b[33m itself\u001b[0m\u001b[33m is\u001b[0m\u001b[33m failing\u001b[0m\u001b[33m on\u001b[0m\u001b[33m startup\u001b[0m\u001b[33m (\u001b[0m\u001b[33me\u001b[0m\u001b[33m.g\u001b[0m\u001b[33m.,\u001b[0m\u001b[33m code\u001b[0m\u001b[33m panic\u001b[0m\u001b[33m,\u001b[0m\u001b[33m invalid\u001b[0m\u001b[33m configuration\u001b[0m\u001b[33m file\u001b[0m\u001b[33m,\u001b[0m\u001b[33m failed\u001b[0m\u001b[33m database\u001b[0m\u001b[33m connection\u001b[0m\u001b[33m).\n",
      "\u001b[0m\u001b[33m3\u001b[0m\u001b[33m.\u001b[0m\u001b[33m **\u001b[0m\u001b[33mFailed\u001b[0m\u001b[33m L\u001b[0m\u001b[33miveness\u001b[0m\u001b[33m/\u001b[0m\u001b[33mRead\u001b[0m\u001b[33miness\u001b[0m\u001b[33m Prob\u001b[0m\u001b[33mes\u001b[0m\u001b[33m**:\u001b[0m\u001b[33m The\u001b[0m\u001b[33m probes\u001b[0m\u001b[33m are\u001b[0m\u001b[33m mis\u001b[0m\u001b[33mconfigured\u001b[0m\u001b[33m (\u001b[0m\u001b[33me\u001b[0m\u001b[33m.g\u001b[0m\u001b[33m.,\u001b[0m\u001b[33m wrong\u001b[0m\u001b[33m port\u001b[0m\u001b[33m,\u001b[0m\u001b[33m bad\u001b[0m\u001b[33m health\u001b[0m\u001b[33m check\u001b[0m\u001b[33m endpoint\u001b[0m\u001b[33m,\u001b[0m\u001b[33m timeout\u001b[0m\u001b[33m too\u001b[0m\u001b[33m low\u001b[0m\u001b[33m),\u001b[0m\u001b[33m causing\u001b[0m\u001b[33m Open\u001b[0m\u001b[33mShift\u001b[0m\u001b[33m to\u001b[0m\u001b[33m kill\u001b[0m\u001b[33m the\u001b[0m\u001b[33m pod\u001b[0m\u001b[33m.\n",
      "\u001b[0m\u001b[33m4\u001b[0m\u001b[33m.\u001b[0m\u001b[33m **\u001b[0m\u001b[33mIncorrect\u001b[0m\u001b[33m Container\u001b[0m\u001b[33m command\u001b[0m\u001b[33m or\u001b[0m\u001b[33m args\u001b[0m\u001b[33m**:\u001b[0m\u001b[33m The\u001b[0m\u001b[33m entry\u001b[0m\u001b[33mpoint\u001b[0m\u001b[33m for\u001b[0m\u001b[33m the\u001b[0m\u001b[33m container\u001b[0m\u001b[33m is\u001b[0m\u001b[33m invalid\u001b[0m\u001b[33m or\u001b[0m\u001b[33m pointing\u001b[0m\u001b[33m to\u001b[0m\u001b[33m a\u001b[0m\u001b[33m non\u001b[0m\u001b[33m-existent\u001b[0m\u001b[33m file\u001b[0m\u001b[33m.\n",
      "\n",
      "\u001b[0m\u001b[33mTo\u001b[0m\u001b[33m troubleshoot\u001b[0m\u001b[33m a\u001b[0m\u001b[33m Crash\u001b[0m\u001b[33mLoop\u001b[0m\u001b[33mBack\u001b[0m\u001b[33mOff\u001b[0m\u001b[33m,\u001b[0m\u001b[33m you\u001b[0m\u001b[33m can\u001b[0m\u001b[33m:\n",
      "\n",
      "\u001b[0m\u001b[33m1\u001b[0m\u001b[33m.\u001b[0m\u001b[33m **\u001b[0m\u001b[33mCheck\u001b[0m\u001b[33m Pod\u001b[0m\u001b[33m Status\u001b[0m\u001b[33m**:\u001b[0m\u001b[33m Identify\u001b[0m\u001b[33m the\u001b[0m\u001b[33m failing\u001b[0m\u001b[33m pod\u001b[0m\u001b[33m using\u001b[0m\u001b[33m `\u001b[0m\u001b[33moc\u001b[0m\u001b[33m get\u001b[0m\u001b[33m pods\u001b[0m\u001b[33m -\u001b[0m\u001b[33mn\u001b[0m\u001b[33m <\u001b[0m\u001b[33mnamespace\u001b[0m\u001b[33m>\u001b[0m\u001b[33m`.\n",
      "\u001b[0m\u001b[33m2\u001b[0m\u001b[33m.\u001b[0m\u001b[33m **\u001b[0m\u001b[33mDescribe\u001b[0m\u001b[33m the\u001b[0m\u001b[33m Pod\u001b[0m\u001b[33m**:\u001b[0m\u001b[33m Use\u001b[0m\u001b[33m `\u001b[0m\u001b[33moc\u001b[0m\u001b[33m describe\u001b[0m\u001b[33m pod\u001b[0m\u001b[33m <\u001b[0m\u001b[33mpod\u001b[0m\u001b[33m-name\u001b[0m\u001b[33m>\u001b[0m\u001b[33m -\u001b[0m\u001b[33mn\u001b[0m\u001b[33m <\u001b[0m\u001b[33mnamespace\u001b[0m\u001b[33m>`\u001b[0m\u001b[33m to\u001b[0m\u001b[33m show\u001b[0m\u001b[33m the\u001b[0m\u001b[33m reason\u001b[0m\u001b[33m for\u001b[0m\u001b[33m the\u001b[0m\u001b[33m current\u001b[0m\u001b[33m state\u001b[0m\u001b[33m and\u001b[0m\u001b[33m any\u001b[0m\u001b[33m events\u001b[0m\u001b[33m.\n",
      "\u001b[0m\u001b[33m3\u001b[0m\u001b[33m.\u001b[0m\u001b[33m **\u001b[0m\u001b[33mCheck\u001b[0m\u001b[33m Logs\u001b[0m\u001b[33m (\u001b[0m\u001b[33mPrevious\u001b[0m\u001b[33m Container\u001b[0m\u001b[33m)\u001b[0m\u001b[33m**:\u001b[0m\u001b[33m Use\u001b[0m\u001b[33m `\u001b[0m\u001b[33moc\u001b[0m\u001b[33m logs\u001b[0m\u001b[33m <\u001b[0m\u001b[33mpod\u001b[0m\u001b[33m-name\u001b[0m\u001b[33m>\u001b[0m\u001b[33m -\u001b[0m\u001b[33mn\u001b[0m\u001b[33m <\u001b[0m\u001b[33mnamespace\u001b[0m\u001b[33m>\u001b[0m\u001b[33m --\u001b[0m\u001b[33mprevious\u001b[0m\u001b[33m`\u001b[0m\u001b[33m to\u001b[0m\u001b[33m check\u001b[0m\u001b[33m the\u001b[0m\u001b[33m logs\u001b[0m\u001b[33m from\u001b[0m\u001b[33m the\u001b[0m\u001b[33m previous\u001b[0m\u001b[33m terminated\u001b[0m\u001b[33m container\u001b[0m\u001b[33m.\n",
      "\n",
      "\u001b[0m\u001b[33mBy\u001b[0m\u001b[33m following\u001b[0m\u001b[33m these\u001b[0m\u001b[33m steps\u001b[0m\u001b[33m,\u001b[0m\u001b[33m you\u001b[0m\u001b[33m can\u001b[0m\u001b[33m identify\u001b[0m\u001b[33m the\u001b[0m\u001b[33m root\u001b[0m\u001b[33m cause\u001b[0m\u001b[33m of\u001b[0m\u001b[33m the\u001b[0m\u001b[33m Crash\u001b[0m\u001b[33mLoop\u001b[0m\u001b[33mBack\u001b[0m\u001b[33mOff\u001b[0m\u001b[33m and\u001b[0m\u001b[33m take\u001b[0m\u001b[33m corrective\u001b[0m\u001b[33m action\u001b[0m\u001b[33m to\u001b[0m\u001b[33m resolve\u001b[0m\u001b[33m the\u001b[0m\u001b[33m issue\u001b[0m\u001b[33m.\u001b[0m\u001b[33m\u001b[0m\u001b[97m\u001b[0m\n",
      "\u001b[30m\u001b[0m"
     ]
    }
   ],
   "source": [
    "import uuid\n",
    "\n",
    "rag_agent = Agent(\n",
    "    client,\n",
    "    model=model_id,\n",
    "    instructions=\"You are a helpful assistant\",\n",
    "    tools=[\n",
    "        {\n",
    "            \"name\": \"builtin::rag/knowledge_search\",\n",
    "            \"args\": {\"vector_db_ids\": [vector_db_id]},\n",
    "        }, \n",
    "        \"mcp::rh-kcs-mcp\",\n",
    "    ],\n",
    "    max_infer_iters=10\n",
    ")\n",
    "\n",
    "prompt = \"Use the given rag search and find what's the resolution of volume attachment failures in kubernetes?\"\n",
    "prompt = \"crashloop backoff in openshift?\"\n",
    "print(\"prompt>\", prompt)\n",
    "\n",
    "session_id = rag_agent.create_session(session_name=f\"s{uuid.uuid4().hex}\")\n",
    "\n",
    "response = rag_agent.create_turn(\n",
    "    messages=[{\"role\": \"user\", \"content\": prompt}],\n",
    "    session_id=session_id,\n",
    "    stream=True,\n",
    "\n",
    ")\n",
    "\n",
    "for log in AgentEventLogger().log(response):\n",
    "    log.print()\n",
    "\n",
    "# rag_output = []\n",
    "\n",
    "# for log in AgentEventLogger().log(response):\n",
    "#     if log.role != \"inference\" and log.role != \"tool_execution\":\n",
    "#         rag_output.append(log)\n",
    "\n",
    "# if rag_output:\n",
    "#     print(\"FINAL INFERENCE RESPONSE:\\n\")\n",
    "#     rag_results = \"\".join(str(x) for x in rag_output) \n",
    "#     print(rag_results)\n",
    "# else:\n",
    "#     print(\"No final inference response found.\")"
   ]
  },
  {
   "cell_type": "markdown",
   "metadata": {},
   "source": [
    "Prompt LLama 4 with a question in relation to the document inserted and execute the mcp_agent"
   ]
  },
  {
   "cell_type": "code",
   "execution_count": 13,
   "metadata": {},
   "outputs": [
    {
     "name": "stderr",
     "output_type": "stream",
     "text": [
      "INFO:httpx:HTTP Request: POST https://lsd-llama-milvus-service-llamastack.apps.cluster-mqt5h.mqt5h.sandbox2228.opentlc.com/v1/agents \"HTTP/1.1 200 OK\"\n",
      "INFO:httpx:HTTP Request: GET https://lsd-llama-milvus-service-llamastack.apps.cluster-mqt5h.mqt5h.sandbox2228.opentlc.com/v1/tools?toolgroup_id=mcp%3A%3Arh-kcs-mcp \"HTTP/1.1 200 OK\"\n",
      "INFO:httpx:HTTP Request: POST https://lsd-llama-milvus-service-llamastack.apps.cluster-mqt5h.mqt5h.sandbox2228.opentlc.com/v1/agents/c8ca66bc-f6a4-4e16-aa3f-bedaa942e574/session \"HTTP/1.1 200 OK\"\n",
      "INFO:httpx:HTTP Request: POST https://lsd-llama-milvus-service-llamastack.apps.cluster-mqt5h.mqt5h.sandbox2228.opentlc.com/v1/agents/c8ca66bc-f6a4-4e16-aa3f-bedaa942e574/session/0aa6056f-675d-4848-ba14-2730814e2179/turn \"HTTP/1.1 200 OK\"\n"
     ]
    },
    {
     "name": "stdout",
     "output_type": "stream",
     "text": [
      "\u001b[33minference> \u001b[0m\u001b[33m\u001b[0m\u001b[33m\u001b[0m\u001b[97m\u001b[0m\n",
      "\u001b[32mtool_execution> Tool:search_kcs Args:{'query': 'crashloopbackoff failure in openshift', 'rows': 50.0, 'start': 0.0, 'session_id': ''}\u001b[0m\n",
      "\u001b[32mtool_execution> Tool:search_kcs Response:[TextContentItem(text='[{\"id\":\"7024400\",\"title\":\"knative-openshift pod in CrashLoopBackOff  due to failure of Liveness Probe in RHOCP 4\",\"score\":181.3567,\"view_uri\":\"https://access.redhat.com/solutions/7024400\"},{\"id\":\"7041005\",\"title\":\"The Openshift Kube Apiserver pods were stuck in CrashLoopBackOff\",\"score\":108.50442,\"view_uri\":\"https://access.redhat.com/solutions/7041005\"},{\"id\":\"7109992\",\"title\":\"Fluentd Pods in CrashLoopBackOff State  in RHOCP 4.\",\"score\":103.55866,\"view_uri\":\"https://access.redhat.com/solutions/7109992\"},{\"id\":\"7073701\",\"title\":\"aws-efs-csi-driver-controller in CrashLoopBackOff\",\"score\":103.241325,\"view_uri\":\"https://access.redhat.com/solutions/7073701\"},{\"id\":\"7012517\",\"title\":\"OpenShift Update Service Operator V5.0.0 is in CrashLoopBackoff\",\"score\":103.21679,\"view_uri\":\"https://access.redhat.com/solutions/7012517\"},{\"id\":\"7063393\",\"title\":\"The control-plane-machine-set-operator pod is in CrashLoopBackOff state during RHOCP 4 cluster upgrade to version 4.15\",\"score\":102.02476,\"view_uri\":\"https://access.redhat.com/solutions/7063393\"},{\"id\":\"6988728\",\"title\":\"devworkspace-webhook-server Pod is in CrashLoopBackoff after removing Web Terminal Operator\",\"score\":100.365524,\"view_uri\":\"https://access.redhat.com/solutions/6988728\"},{\"id\":\"7108328\",\"title\":\"powermax-node CSI Pod is in CrashLoopBackOff\",\"score\":99.46525,\"view_uri\":\"https://access.redhat.com/solutions/7108328\"},{\"id\":\"7107144\",\"title\":\"OVN Controller pods in CrashLoopBackOff state due to persistent liveness probe failures in RHOSO environment\",\"score\":99.18369,\"view_uri\":\"https://access.redhat.com/solutions/7107144\"},{\"id\":\"6127891\",\"title\":\"Quay pods are in CrashLoopBackOff state\",\"score\":98.21901,\"view_uri\":\"https://access.redhat.com/solutions/6127891\"},{\"id\":\"6653601\",\"title\":\"RHOCP 4 initContainer in CrashLoopBackOff on pod with Service Mesh sidecar injected\",\"score\":95.29617,\"view_uri\":\"https://access.redhat.com/solutions/6653601\"},{\"id\":\"6553051\",\"title\":\"Restrictive custom SCC used for apiserver service account causing apiserver pod start failures\",\"score\":95.03308,\"view_uri\":\"https://access.redhat.com/solutions/6553051\"},{\"id\":\"7032747\",\"title\":\"SDN pods in CrashLoopBackOff after manual node restart during a Machine Configuration update\",\"score\":94.81603,\"view_uri\":\"https://access.redhat.com/solutions/7032747\"},{\"id\":\"7099467\",\"title\":\"metal-3 pod stuck in CrashLoopBackOff during cluster installation in  RHOCP 4\",\"score\":94.71729,\"view_uri\":\"https://access.redhat.com/solutions/7099467\"},{\"id\":\"5388381\",\"title\":\"CrashLoopBackOff of certified-operators & community-operators pods after cluster upgrade\",\"score\":94.52426,\"view_uri\":\"https://access.redhat.com/solutions/5388381\"},{\"id\":\"7123759\",\"title\":\"Clair related pods managed by Quay Operator repeatedly CrashLoopBackOff state\",\"score\":94.409645,\"view_uri\":\"https://access.redhat.com/solutions/7123759\"},{\"id\":\"7125572\",\"title\":\"Authentication Cluster Operator is Degraded and Pod is stuck in CrashLoopBackOff state.\",\"score\":93.63886,\"view_uri\":\"https://access.redhat.com/solutions/7125572\"},{\"id\":\"5726531\",\"title\":\"Elasticsearch pods are stuck in CrashLoopBackOff due permission denied error\",\"score\":93.214134,\"view_uri\":\"https://access.redhat.com/solutions/5726531\"},{\"id\":\"7010336\",\"title\":\"All collector pods in CrashLoopBackOff state with \\\\\"cannot list resource\\\\\" log message.\",\"score\":92.53554,\"view_uri\":\"https://access.redhat.com/solutions/7010336\"},{\"id\":\"7056553\",\"title\":\"Changes in Twistlock policies cause networking failures in Openshift 4\",\"score\":91.65315,\"view_uri\":\"https://access.redhat.com/solutions/7056553\"},{\"id\":\"7132181\",\"title\":\"Troubleshooting Loki Ingester Failures in RedHat Openshift\",\"score\":90.005714,\"view_uri\":\"https://access.redhat.com/solutions/7132181\"},{\"id\":\"6996804\",\"title\":\"Etcd member in CrashLoopBackOff state with message: \\\\\"wal: max entry size limit exceeded\\\\\"\",\"score\":89.65495,\"view_uri\":\"https://access.redhat.com/solutions/6996804\"},{\"id\":\"6650401\",\"title\":\"Misconfigured Security Context Constraints Lead to MySQL Pod Failure\",\"score\":83.87421,\"view_uri\":\"https://access.redhat.com/solutions/6650401\"},{\"id\":\"7098798\",\"title\":\"Missing resource requests and limits in the Tempo Operator Deployment causing tempo-sample-query-frontend pod failure\",\"score\":81.65249,\"view_uri\":\"https://access.redhat.com/solutions/7098798\"},{\"id\":\"7124123\",\"title\":\"Loki fails to connect with the object storage with a tls handshake failure in RHOCP 4\",\"score\":80.522316,\"view_uri\":\"https://access.redhat.com/solutions/7124123\"},{\"id\":\"7111340\",\"title\":\"Nodes NotReady after 4.16 upgrade due to ovnkube-node pods stuck in CrashLoopBackOff\",\"score\":78.27571,\"view_uri\":\"https://access.redhat.com/solutions/7111340\"},{\"id\":\"7113061\",\"title\":\"Intermittent connectivity failures accross Openshift on OVN-Kubernetes and upgrade to 4.18 leaves OVN-Kubernetes broken\",\"score\":78.17977,\"view_uri\":\"https://access.redhat.com/solutions/7113061\"},{\"id\":\"6707491\",\"title\":\"The MySQL pod from Red Hat Single Sign-On (RH SSO) exits with the error: \\\\\"Assertion failure in thread...\\\\\"\",\"score\":73.50414,\"view_uri\":\"https://access.redhat.com/solutions/6707491\"},{\"id\":\"7127023\",\"title\":\"DCGM Exporter crash due to NVLink error after upgrading to NVIDIA GPU Operator 25.3.0\",\"score\":64.99109,\"view_uri\":\"https://access.redhat.com/solutions/7127023\"},{\"id\":\"6009771\",\"title\":\"Are failing Jobs consuming resources of an OpenShift cluster?\",\"score\":64.55876,\"view_uri\":\"https://access.redhat.com/articles/6009771\"},{\"id\":\"6998362\",\"title\":\"Failed to create memberlist no private IP address found in Loki for RHOCP 4\",\"score\":64.5026,\"view_uri\":\"https://access.redhat.com/solutions/6998362\"},{\"id\":\"7096511\",\"title\":\"Security Context Constraint Issues Causing Rook-Ceph Pod Failures After ODF Upgrade\",\"score\":62.279366,\"view_uri\":\"https://access.redhat.com/solutions/7096511\"},{\"id\":\"5049141\",\"title\":\" How to trigger the redeployment of pods for components such as Openshift kube-apiserver, kube-controller-manager, and kube-scheduler\",\"score\":62.220177,\"view_uri\":\"https://access.redhat.com/solutions/5049141\"},{\"id\":\"7018550\",\"title\":\"Troubleshooting Guide for SAP Data Intelligence 3 on OpenShift Container Platform 4\",\"score\":61.466743,\"view_uri\":\"https://access.redhat.com/articles/7018550\"},{\"id\":\"7103467\",\"title\":\"Agent pod constantly restarting in RHOCP4\",\"score\":61.13077,\"view_uri\":\"https://access.redhat.com/solutions/7103467\"},{\"id\":\"7123518\",\"title\":\"Persistent Volume stuck in Pending status with Cinder CSI Operator\",\"score\":60.63141,\"view_uri\":\"https://access.redhat.com/solutions/7123518\"},{\"id\":\"7097884\",\"title\":\"Trident Operator pods CrashLoop-ing during RHOCP upgrade\",\"score\":59.139523,\"view_uri\":\"https://access.redhat.com/solutions/7097884\"},{\"id\":\"7038990\",\"title\":\"ControlPlaneMachineSet cannot be created with empty failureDomains for OpenShift 4 in vSphere\",\"score\":57.215767,\"view_uri\":\"https://access.redhat.com/solutions/7038990\"},{\"id\":\"7061416\",\"title\":\"Network Operator is Degraded during bootstrap and fails OpenShift 4 installation\",\"score\":56.847973,\"view_uri\":\"https://access.redhat.com/solutions/7061416\"},{\"id\":\"6317971\",\"title\":\"Running chroot from a unprivileged pod fails in OCP 4\",\"score\":54.423397,\"view_uri\":\"https://access.redhat.com/solutions/6317971\"},{\"id\":\"7014249\",\"title\":\"OCP cluster installation fails with network operator with message \\\\\"The network is starting up\\\\\".\",\"score\":54.10358,\"view_uri\":\"https://access.redhat.com/solutions/7014249\"},{\"id\":\"4827591\",\"title\":\"OpenShift Container Storage 3.11.5 : Resolved Issues and Enhancements\",\"score\":54.083252,\"view_uri\":\"https://access.redhat.com/articles/4827591\"},{\"id\":\"7052684\",\"title\":\"RHOCP UPI installation on OSP fails to bootstrap due to cloud controller manager not finding ca-bundle\",\"score\":53.43342,\"view_uri\":\"https://access.redhat.com/solutions/7052684\"},{\"id\":\"7027042\",\"title\":\"Cluster Operators degraded after migrating from OpenShift SDN to OVN-Kubernetes in RHOCP4\",\"score\":53.267403,\"view_uri\":\"https://access.redhat.com/solutions/7027042\"},{\"id\":\"7130880\",\"title\":\"Central does not start on FIPS mode enabled environments in RHACS 4.8.3\",\"score\":51.52301,\"view_uri\":\"https://access.redhat.com/solutions/7130880\"},{\"id\":\"7062864\",\"title\":\"Loki pod with error \\\\\"certificate signed by unknown authority\\\\\" in RHOCP 4\",\"score\":51.078342,\"view_uri\":\"https://access.redhat.com/solutions/7062864\"},{\"id\":\"7021684\",\"title\":\"Troubleshooting Kube-Controller-Manager in RHOCP 4\",\"score\":51.000534,\"view_uri\":\"https://access.redhat.com/solutions/7021684\"},{\"id\":\"7008349\",\"title\":\"Kube-controller-manager unable to acquire leader lease in RHOCP 4\",\"score\":50.417503,\"view_uri\":\"https://access.redhat.com/solutions/7008349\"},{\"id\":\"7132047\",\"title\":\"OpenShift GPU Node shows NotReady and nvidia.com/gpu-driver-upgrade-state=upgrade-failed label during cluster upgrade\",\"score\":49.86429,\"view_uri\":\"https://access.redhat.com/solutions/7132047\"},{\"id\":\"3358061\",\"title\":\"OpenShift Container Platform 错误诊断：聚合容器的日志信息\",\"score\":49.71548,\"view_uri\":\"https://access.redhat.com/node/3358061\"}]', type='text')]\u001b[0m\n",
      "\u001b[33minference> \u001b[0m\u001b[33mHere\u001b[0m\u001b[33m are\u001b[0m\u001b[33m some\u001b[0m\u001b[33m relevant\u001b[0m\u001b[33m articles\u001b[0m\u001b[33m related\u001b[0m\u001b[33m to\u001b[0m\u001b[33m crash\u001b[0m\u001b[33mloop\u001b[0m\u001b[33mback\u001b[0m\u001b[33moff\u001b[0m\u001b[33m failure\u001b[0m\u001b[33m in\u001b[0m\u001b[33m Open\u001b[0m\u001b[33mShift\u001b[0m\u001b[33m:\n",
      "\n",
      "\u001b[0m\u001b[33mTitle\u001b[0m\u001b[33m:\u001b[0m\u001b[33m kn\u001b[0m\u001b[33mative\u001b[0m\u001b[33m-op\u001b[0m\u001b[33mens\u001b[0m\u001b[33mhift\u001b[0m\u001b[33m pod\u001b[0m\u001b[33m in\u001b[0m\u001b[33m Crash\u001b[0m\u001b[33mLoop\u001b[0m\u001b[33mBack\u001b[0m\u001b[33mOff\u001b[0m\u001b[33m \u001b[0m\u001b[33m due\u001b[0m\u001b[33m to\u001b[0m\u001b[33m failure\u001b[0m\u001b[33m of\u001b[0m\u001b[33m L\u001b[0m\u001b[33miveness\u001b[0m\u001b[33m Probe\u001b[0m\u001b[33m in\u001b[0m\u001b[33m RH\u001b[0m\u001b[33mOC\u001b[0m\u001b[33mP\u001b[0m\u001b[33m \u001b[0m\u001b[33m4\u001b[0m\u001b[33m\n",
      "\u001b[0m\u001b[33mLink\u001b[0m\u001b[33m:\u001b[0m\u001b[33m https\u001b[0m\u001b[33m://\u001b[0m\u001b[33maccess\u001b[0m\u001b[33m.red\u001b[0m\u001b[33mhat\u001b[0m\u001b[33m.com\u001b[0m\u001b[33m/s\u001b[0m\u001b[33molutions\u001b[0m\u001b[33m/\u001b[0m\u001b[33m702\u001b[0m\u001b[33m440\u001b[0m\u001b[33m0\u001b[0m\u001b[33m\n",
      "\n",
      "\u001b[0m\u001b[33mTitle\u001b[0m\u001b[33m:\u001b[0m\u001b[33m The\u001b[0m\u001b[33m Opens\u001b[0m\u001b[33mhift\u001b[0m\u001b[33m K\u001b[0m\u001b[33mube\u001b[0m\u001b[33m Ap\u001b[0m\u001b[33miserver\u001b[0m\u001b[33m pods\u001b[0m\u001b[33m were\u001b[0m\u001b[33m stuck\u001b[0m\u001b[33m in\u001b[0m\u001b[33m Crash\u001b[0m\u001b[33mLoop\u001b[0m\u001b[33mBack\u001b[0m\u001b[33mOff\u001b[0m\u001b[33m\n",
      "\u001b[0m\u001b[33mLink\u001b[0m\u001b[33m:\u001b[0m\u001b[33m https\u001b[0m\u001b[33m://\u001b[0m\u001b[33maccess\u001b[0m\u001b[33m.red\u001b[0m\u001b[33mhat\u001b[0m\u001b[33m.com\u001b[0m\u001b[33m/s\u001b[0m\u001b[33molutions\u001b[0m\u001b[33m/\u001b[0m\u001b[33m704\u001b[0m\u001b[33m100\u001b[0m\u001b[33m5\u001b[0m\u001b[33m\n",
      "\n",
      "\u001b[0m\u001b[33mTitle\u001b[0m\u001b[33m:\u001b[0m\u001b[33m Fluent\u001b[0m\u001b[33md\u001b[0m\u001b[33m P\u001b[0m\u001b[33mods\u001b[0m\u001b[33m in\u001b[0m\u001b[33m Crash\u001b[0m\u001b[33mLoop\u001b[0m\u001b[33mBack\u001b[0m\u001b[33mOff\u001b[0m\u001b[33m State\u001b[0m\u001b[33m \u001b[0m\u001b[33m in\u001b[0m\u001b[33m RH\u001b[0m\u001b[33mOC\u001b[0m\u001b[33mP\u001b[0m\u001b[33m \u001b[0m\u001b[33m4\u001b[0m\u001b[33m.\n",
      "\u001b[0m\u001b[33mLink\u001b[0m\u001b[33m:\u001b[0m\u001b[33m https\u001b[0m\u001b[33m://\u001b[0m\u001b[33maccess\u001b[0m\u001b[33m.red\u001b[0m\u001b[33mhat\u001b[0m\u001b[33m.com\u001b[0m\u001b[33m/s\u001b[0m\u001b[33molutions\u001b[0m\u001b[33m/\u001b[0m\u001b[33m710\u001b[0m\u001b[33m999\u001b[0m\u001b[33m2\u001b[0m\u001b[33m\n",
      "\n",
      "\u001b[0m\u001b[33mTitle\u001b[0m\u001b[33m:\u001b[0m\u001b[33m aws\u001b[0m\u001b[33m-\u001b[0m\u001b[33mefs\u001b[0m\u001b[33m-c\u001b[0m\u001b[33msi\u001b[0m\u001b[33m-driver\u001b[0m\u001b[33m-controller\u001b[0m\u001b[33m in\u001b[0m\u001b[33m Crash\u001b[0m\u001b[33mLoop\u001b[0m\u001b[33mBack\u001b[0m\u001b[33mOff\u001b[0m\u001b[33m\n",
      "\u001b[0m\u001b[33mLink\u001b[0m\u001b[33m:\u001b[0m\u001b[33m https\u001b[0m\u001b[33m://\u001b[0m\u001b[33maccess\u001b[0m\u001b[33m.red\u001b[0m\u001b[33mhat\u001b[0m\u001b[33m.com\u001b[0m\u001b[33m/s\u001b[0m\u001b[33molutions\u001b[0m\u001b[33m/\u001b[0m\u001b[33m707\u001b[0m\u001b[33m370\u001b[0m\u001b[33m1\u001b[0m\u001b[33m\n",
      "\n",
      "\u001b[0m\u001b[33mTitle\u001b[0m\u001b[33m:\u001b[0m\u001b[33m Open\u001b[0m\u001b[33mShift\u001b[0m\u001b[33m Update\u001b[0m\u001b[33m Service\u001b[0m\u001b[33m Operator\u001b[0m\u001b[33m V\u001b[0m\u001b[33m5\u001b[0m\u001b[33m.\u001b[0m\u001b[33m0\u001b[0m\u001b[33m.\u001b[0m\u001b[33m0\u001b[0m\u001b[33m is\u001b[0m\u001b[33m in\u001b[0m\u001b[33m Crash\u001b[0m\u001b[33mLoop\u001b[0m\u001b[33mBack\u001b[0m\u001b[33moff\u001b[0m\u001b[33m\n",
      "\u001b[0m\u001b[33mLink\u001b[0m\u001b[33m:\u001b[0m\u001b[33m https\u001b[0m\u001b[33m://\u001b[0m\u001b[33maccess\u001b[0m\u001b[33m.red\u001b[0m\u001b[33mhat\u001b[0m\u001b[33m.com\u001b[0m\u001b[33m/s\u001b[0m\u001b[33molutions\u001b[0m\u001b[33m/\u001b[0m\u001b[33m701\u001b[0m\u001b[33m251\u001b[0m\u001b[33m7\u001b[0m\u001b[33m\n",
      "\n",
      "\u001b[0m\u001b[33mThese\u001b[0m\u001b[33m articles\u001b[0m\u001b[33m provide\u001b[0m\u001b[33m troubleshooting\u001b[0m\u001b[33m steps\u001b[0m\u001b[33m and\u001b[0m\u001b[33m solutions\u001b[0m\u001b[33m for\u001b[0m\u001b[33m various\u001b[0m\u001b[33m crash\u001b[0m\u001b[33mloop\u001b[0m\u001b[33mback\u001b[0m\u001b[33moff\u001b[0m\u001b[33m failures\u001b[0m\u001b[33m in\u001b[0m\u001b[33m Open\u001b[0m\u001b[33mShift\u001b[0m\u001b[33m,\u001b[0m\u001b[33m including\u001b[0m\u001b[33m issues\u001b[0m\u001b[33m with\u001b[0m\u001b[33m l\u001b[0m\u001b[33miveness\u001b[0m\u001b[33m probes\u001b[0m\u001b[33m,\u001b[0m\u001b[33m kube\u001b[0m\u001b[33m-ap\u001b[0m\u001b[33miserver\u001b[0m\u001b[33m pods\u001b[0m\u001b[33m,\u001b[0m\u001b[33m Fluent\u001b[0m\u001b[33md\u001b[0m\u001b[33m pods\u001b[0m\u001b[33m,\u001b[0m\u001b[33m and\u001b[0m\u001b[33m more\u001b[0m\u001b[33m.\u001b[0m\u001b[33m\u001b[0m\u001b[97m\u001b[0m\n",
      "\u001b[30m\u001b[0m"
     ]
    }
   ],
   "source": [
    "import uuid\n",
    "from llama_stack_client.lib.agents.react.agent import ReActAgent\n",
    "from llama_stack_client.lib.agents.react.tool_parser import ReActOutput\n",
    "\n",
    "mcp_agent = Agent(\n",
    "    client,\n",
    "    model=model_id,\n",
    "    instructions=\"\"\"You are a helpful assistant. Search for relevant Red Hat knowledge articles.\n",
    "\n",
    "Format each result as:\n",
    "Title: [article title]\n",
    "Link: [full view_uri URL]\n",
    "\n",
    "Show the complete URL for each article so users can easily access them.\"\"\",\n",
    "    tools=[\n",
    "        \"mcp::rh-kcs-mcp\",\n",
    "    ],max_infer_iters=100\n",
    ")\n",
    "\n",
    "input_prompt = \"Find relevant knowledge articles for 'volume attachment failures in kubernetes'\"\n",
    "input_prompt = \"Find relevant knowledge articles for 'what's the resolution for pod crashloop backoff failures in kubernetes'?\"\n",
    "input_prompt = \"crashloopbackoff failure in openshift?\"\n",
    "\n",
    "session_id = mcp_agent.create_session(session_name=f\"s{uuid.uuid4().hex}\")\n",
    "\n",
    "response = mcp_agent.create_turn(\n",
    "        messages=[{\"role\": \"user\",\"content\": input_prompt}],\n",
    "        session_id=session_id,\n",
    "        stream=True,\n",
    "    )\n",
    "\n",
    "import re, json\n",
    "\n",
    "for log in AgentEventLogger().log(response):\n",
    "    log.print()\n",
    "\n",
    "# mcp_output = []\n",
    "\n",
    "# for log in AgentEventLogger().log(response):\n",
    "#     if log.role == \"tool_execution\" and \"Tool:search_kcs Response:\" in log.content:\n",
    "#         # Extract the JSON array between the single quotes after 'TextContentItem(text='\n",
    "#         match = re.search(r\"TextContentItem\\(text='(.*?)', type='text'\\)\", log.content)\n",
    "#         if match:\n",
    "#             json_str = match.group(1)\n",
    "#             try:\n",
    "#                 data = json.loads(json_str)\n",
    "#                 for item in data:\n",
    "#                     title = item.get(\"title\")\n",
    "#                     uri = item.get(\"view_uri\")\n",
    "#                     mcp_output.append((title, \" - \", uri))\n",
    "#                     # print(f\"- {title}: {uri}\")\n",
    "#             except json.JSONDecodeError as e:\n",
    "#                 print(\"Error decoding JSON:\", e)  \n",
    "\n",
    "# mcp_results = \"\\n\".join(f\"{t[0]}{t[1]}{t[2]}\" for t in mcp_output)\n",
    "\n",
    "# print(mcp_results)  \n",
    "\n",
    "# mcp_output = []\n",
    "# for log in AgentEventLogger().log(response):\n",
    "#     if log.role != \"inference\" and log.role != \"tool_execution\":\n",
    "#         mcp_output.append(log)\n",
    "\n",
    "# if mcp_output:\n",
    "#     mcp_results = \"\".join(str(x) for x in mcp_output)\n",
    "#     print(\"MCP RESPONSE:\\n\")\n",
    "#     print(mcp_results)\n",
    "# else:\n",
    "#     print(\"No MCP response found.\")"
   ]
  },
  {
   "cell_type": "markdown",
   "metadata": {},
   "source": [
    "Query chunks from a vector database."
   ]
  },
  {
   "cell_type": "code",
   "execution_count": 74,
   "metadata": {},
   "outputs": [
    {
     "name": "stderr",
     "output_type": "stream",
     "text": [
      "INFO:httpx:HTTP Request: POST https://lls-route-llamastack.apps.cluster-5tptd.5tptd.sandbox2399.opentlc.com/v1/vector-io/query \"HTTP/1.1 200 OK\"\n"
     ]
    },
    {
     "name": "stdout",
     "output_type": "stream",
     "text": [
      "('chunks', [Chunk(content=\"2. Playbook: Troubleshooting StatefulSet / Volume Attachment Failures\\nSummary This issue occurs when a pod (often part of a StatefulSet) fails to start and gets stuck in a Pending state. The pod's events show errors like FailedAttachVolume or FailedMount.\", metadata={'document_id': 'SREIPS-Prod-troubleshooting-Knowledge-Base', 'file_name': 'SREIPS-Prod-troubleshooting-Knowledge-Base', 'token_count': 60.0, 'metadata_token_count': 86.0}, chunk_metadata=None, embedding=[-0.002078126184642315, -0.08956107497215271, -0.058951981365680695, -0.05302261561155319, -0.01648826152086258, -0.0380384661257267, 0.03362100198864937, -0.01643924042582512, -0.012361528351902962, 0.06646183133125305, -0.04468977078795433, 0.009523248299956322, -0.019376171752810478, -0.008850854821503162, -0.009770721197128296, -0.05316106230020523, -0.0014728282112628222, 0.03968168795108795, -0.022789951413869858, -0.014215536415576935, -0.00043034949339926243, -0.04781744256615639, -0.03224721923470497, -0.05234668403863907, -0.004381396807730198, -0.05174768343567848, 0.04779408499598503, 0.025534702464938164, -0.0021691988222301006, 0.001419793232344091, -0.01293237879872322, -0.032075490802526474, 0.06252029538154602, 0.0007277331314980984, 0.041169315576553345, -0.016970081254839897, 0.032767828553915024, 0.008436490781605244, 0.010222685523331165, -0.018160322681069374, -0.014494712464511395, 0.022510536015033722, -0.007308471016585827, -0.02516089752316475, -0.006535879801958799, -0.05066388472914696, 0.023154381662607193, -0.006400606594979763, -0.06655175983905792, 0.02834290824830532, 0.01091641467064619, -0.010684492066502571, -0.029711008071899414, -0.027560267597436905, 0.0227776151150465, 0.012781580910086632, 0.0025175802875310183, -0.02431388944387436, 0.008531960658729076, -0.004380887374281883, -0.01978781633079052, -0.029225319623947144, -0.013609161600470543, 0.015718597918748856, 0.04302610456943512, 0.022451126947999, 0.014694200828671455, -0.02924926206469536, -0.07472655177116394, -0.027564184740185738, 0.02138097770512104, 0.0074115656316280365, -0.014011362567543983, -0.021328585222363472, 0.030009644106030464, 0.0016878038877621293, -0.05522850155830383, -0.021560119464993477, 0.00523533346131444, 0.060182806104421616, 0.0060461582615971565, 0.01374000683426857, -0.005602650810033083, -0.014147777110338211, -0.010668480768799782, -0.03701217472553253, -0.002768398728221655, 0.01171688549220562, -0.04502955451607704, -0.030143219977617264, -0.020189102739095688, -0.023556197062134743, 0.02395080029964447, -0.01920623518526554, 0.023412322625517845, -0.008487502112984657, -0.036181140691041946, -0.03568647429347038, 0.008605578914284706, -0.007864859886467457, 0.02247737906873226, -0.008441128768026829, -0.03531048819422722, 0.01882065460085869, 0.05236487090587616, 0.0019396089483052492, -0.017679590731859207, 0.0036255803424865007, 0.006733839400112629, 0.003812759881839156, 0.02980511449277401, -0.03454864025115967, -0.06849813461303711, 0.028065718710422516, 0.01580112613737583, 0.03872021660208702, 0.0034832125529646873, -0.007116592489182949, -0.0019079510821029544, -0.029187854379415512, 0.0016012557316571474, -0.03271372988820076, 0.00303507037460804, -0.028011120855808258, -0.011116008274257183, 0.01888013817369938, -0.017264466732740402, 0.02113708108663559, 0.0180482417345047, 0.005455598700791597, 0.001718292012810707, 0.002028870861977339, 0.0330827496945858, 0.009184557013213634, -0.028524210676550865, 0.0047072661109268665, 0.029577871784567833, 0.035376597195863724, -0.03356921672821045, -0.005895903334021568, -0.024765215814113617, 0.024751091375947, -0.03809543699026108, -0.006471646949648857, -0.05618933215737343, 0.0025158426724374294, 0.05039569362998009, -0.04866921156644821, -0.0008333438308909535, 0.0005248839734122157, -0.02973894216120243, -0.03888240456581116, -0.010045066475868225, 0.035158656537532806, -0.02493075653910637, 0.019209280610084534, 0.030761422589421272, -0.016771994531154633, 0.0007429815013892949, 0.02342967689037323, 0.010884704068303108, 0.006991990376263857, -0.05962570384144783, -0.028706375509500504, -0.04414546489715576, -0.004461042582988739, -0.014831134118139744, 0.002247065072879195, -0.01118544116616249, -0.03489794209599495, -0.008153894916176796, -0.027848167344927788, -0.038509976118803024, 0.0005076141678728163, -0.018283627927303314, -0.006265534088015556, 0.028699567541480064, -0.01623273640871048, 0.037128932774066925, -0.00295011093840003, 0.020742077380418777, 0.03853387013077736, -0.019862491637468338, -0.017737017944455147, 0.016930079087615013, -0.0228500347584486, -0.04430355504155159, 0.015178816393017769, -0.004576659295707941, -0.036811087280511856, -0.007224499713629484, -0.006371030118316412, 0.005182705353945494, -0.03482114151120186, 0.023098714649677277, 0.007829101756215096, -0.03704534471035004, 0.003660285146906972, -0.06961546093225479, 0.015966424718499184, -0.01277097500860691, -7.041642675176263e-05, -0.005808246787637472, -0.017959261313080788, -0.009289992041885853, 0.024274399504065514, -0.018191354349255562, 0.01575685478746891, 0.01199275441467762, -0.03281012922525406, -0.00409874739125371, -0.047161661088466644, -0.021317940205335617, -0.30745014548301697, 0.04147878289222717, 0.02841806598007679, -0.31721678376197815, -0.02904072031378746, -0.019840732216835022, -0.045625586062669754, 0.006670372560620308, -0.02029864490032196, 0.01351962797343731, -0.026589984074234962, 0.037047773599624634, -0.006758935283869505, 0.02343796193599701, 0.029684411361813545, -0.0592590756714344, 0.002704375423491001, 0.017237292602658272, -0.00321344006806612, -0.05735553056001663, -0.001709446543827653, -0.014161722734570503, -0.040737319737672806, 0.0063027567230165005, -0.00046465382911264896, 0.0017456966452300549, 0.014149440452456474, -0.03231881558895111, -0.021075507625937462, 0.022223476320505142, 0.05155356228351593, -0.0143284872174263, -0.030396703630685806, -0.009111732244491577, 0.014808298088610172, -0.035415347665548325, -0.06602640450000763, -0.022401591762900352, -7.058157643768936e-05, -0.28539615869522095, -0.0021949270740151405, 0.0038035986945033073, -0.016228821128606796, 0.016321023926138878, -0.005032939836382866, 0.033494625240564346, -0.00963557418435812, 0.016207627952098846, -0.014383411034941673, 0.025348730385303497, -0.009195135906338692, -0.014277137815952301, 0.02331494353711605, 0.0205218568444252, -0.023130903020501137, 0.0277018491178751, 0.011607732623815536, 0.00787267740815878, 0.03060906007885933, -0.013270307332277298, 0.04827851802110672, -0.06179359555244446, -0.004695966839790344, 0.04932524263858795, -0.024334529414772987, -0.06845320016145706, -0.02162136696279049, -0.014175843447446823, -0.0065982528030872345, 0.014534247107803822, -0.013286597095429897, -0.0014573591761291027, -0.014739258214831352, 0.007906370796263218, 0.023332219570875168, -0.007238436955958605, 0.04692540317773819, -0.012500251643359661, -0.0006908277864567935, 0.024858124554157257, -0.039828021079301834, 0.005778889171779156, 0.029625127092003822, 0.0002589033101685345, -0.027514364570379257, 0.03249312564730644, -0.004606731701642275, -0.027898304164409637, 0.006952223833650351, 0.001918897032737732, -0.010863781906664371, -0.0010424364591017365, 0.0020927374716848135, 0.001969906035810709, 0.031050963327288628, -0.029817722737789154, 0.04161998629570007, 0.036390576511621475, -0.006160703022032976, -0.019252270460128784, 0.030859095975756645, -0.0015119421295821667, -0.019555717706680298, -0.024733109399676323, -0.027225548401474953, -0.023778900504112244, -0.015548165887594223, -0.04551082104444504, 0.018819864839315414, -0.013683146797120571, -0.01592596061527729, -0.014436246827244759, -0.003796845441684127, -0.002167361555621028, 0.012735048308968544, 0.017994828522205353, 0.022882036864757538, 0.0034606815315783024, 0.03669453412294388, -0.01664368435740471, -0.04379856586456299, 0.014471221715211868, -0.0011096778325736523, -0.03344941884279251, -0.03163788095116615, -0.027595611289143562, -0.002028178423643112, 0.05346158146858215, 0.04970370605587959, 0.009843707084655762, -0.0016318937996402383, -0.020513271912932396, -0.0452631339430809, -0.012456650845706463, -0.02189169079065323, -0.0266764797270298, -0.029781823977828026, 0.012230035848915577, -0.018261080607771873, 0.0007020851480774581, -0.004733345005661249, -0.01765330880880356, -0.03944101929664612, 0.05324304476380348, 0.06071371212601662, 0.0017780859488993883, -0.037227384746074677, 0.02854035794734955, 0.07041877508163452, -0.022400468587875366, -0.052107226103544235, 0.024077903479337692, -0.030207687988877296, -0.003974463324993849, 0.014798116870224476, -0.0007105012191459537, -0.04552504047751427, -0.007669915910810232, 0.0022273629438132048, -0.016861598938703537, -0.03564182668924332, -0.022152312099933624, -0.060846053063869476, 0.023333027958869934, -0.01831768825650215, -0.04075669124722481, -0.032493822276592255, 0.031315870583057404, -0.008407725021243095, -0.013134149834513664, 0.009305267594754696, -0.00587780075147748, -0.0033876486122608185, 0.036738939583301544, 0.01309073343873024, -0.01317213848233223, -0.015606792643666267, 0.00044587955926544964, -0.02035372331738472, -0.005146321374922991, -0.026347456499934196, 0.03353686258196831, 0.012705639936029911, -0.02332940511405468, 0.020412616431713104, 0.019214726984500885, -0.035133715718984604, -0.013987620361149311, 0.02976440079510212, 0.004432333167642355, 0.04162333160638809, -0.018218684941530228, 0.09696570038795471, -0.02381814271211624, -0.030509376898407936, 0.050409946590662, -0.013182430528104305, 0.03042835183441639, -0.030569875612854958, -0.010230042971670628, -0.0445040799677372, 0.04549926519393921, 0.01835484616458416, -0.02209942229092121, -0.0004576783103402704, 0.01622643880546093, 0.03902174159884453, -0.059266649186611176, 0.021328672766685486, -0.017539307475090027, 0.036655884236097336, 0.36553966999053955, -0.009693112224340439, -0.030890272930264473, -0.04649705812335014, 0.017292741686105728, 0.01125944871455431, 0.04890287294983864, 0.017357852309942245, -0.02147778309881687, -0.0070425462909042835, 0.07254698127508163, -0.005825676955282688, -0.012285261414945126, 0.02359149418771267, 0.0014203224563971162, -0.021233269944787025, -0.029318872839212418, 0.030545402318239212, -0.031148729845881462, 0.017938662320375443, -0.021014060825109482, 0.017454568296670914, -0.0005837108474224806, -0.030236415565013885, -0.007711993530392647, -0.011642273515462875, 0.047338396310806274, 0.004603283014148474, 0.0427403561770916, 0.018943915143609047, -0.016403716057538986, -0.01530791912227869, -0.006486079189926386, 0.01673845574259758, 0.026234740391373634, 0.0006781150586903095, -0.06505022943019867, 0.005728274118155241, -0.019773131236433983, 0.013850416988134384, 0.05842690169811249, 0.016077537089586258, -0.028605060651898384, 0.05357285961508751, 0.014871709980070591, -0.022876018658280373, 0.005773460958153009, -0.001951837562955916, 0.006619681138545275, -0.011838077567517757, -0.027452027425169945, 0.004462375305593014, -0.059202779084444046, 0.024241235107183456, -0.015154941938817501, -0.024813981726765633, -0.020489541813731194, 0.007677879184484482, -0.011752204038202763, -0.026464954018592834, -0.013971379958093166, 0.057288773357868195, -0.016912464052438736, -0.04618644341826439, -0.003600835567340255, -0.0004679317935369909, 0.003321534488350153, 0.006135502364486456, -0.0077354698441922665, 0.006497280206531286, 0.059864237904548645, -0.025346649810671806, -0.02502107061445713, 0.027745496481657028, 0.0059883128851652145, -0.017080986872315407, -0.010178882628679276, 0.023171979933977127, 0.011648927815258503, 0.046901993453502655, -0.005790820810943842, 0.056373994797468185, -0.011948198080062866, -0.005026236642152071, -0.011995261535048485, 0.010371780954301357, -0.021930433809757233, 0.04569927230477333, 0.005791062954813242, 0.014778262935578823, -0.010810092091560364, -0.013447160832583904, -0.0347195528447628, 0.010672196745872498, -0.018484530970454216, -0.0004736762202810496, 0.018430303782224655, 0.01058494858443737, 0.02800220623612404, -0.016219234094023705, -0.008895441889762878, 0.0316043347120285, -0.01916332356631756, 0.03047122061252594, -0.00577054126188159, -0.04243000969290733, 0.027833525091409683, -0.006945529021322727, -0.03763856366276741, -0.005815183278173208, -0.011813131161034107, -0.0036834790371358395, -0.02255726419389248, 0.08496729284524918, -0.01981217786669731, -0.01678476482629776, -0.03220334276556969, 0.014880161732435226, -0.013944226317107677, -0.07274449616670609, -0.025675060227513313, -0.005417522508651018, -0.013120121322572231, 0.003927556797862053, 0.007019593380391598, 0.03399335592985153, 0.006811780855059624, -0.022029727697372437, 0.02367335930466652, 0.046773478388786316, -0.0011165185132995248, -0.008830958046019077, -0.039458245038986206, 0.026129473000764847, 0.01086368691176176, -0.03425430506467819, 0.018650606274604797, 0.03542708605527878, -0.00632429588586092, -0.024895237758755684, -0.030170049518346786, -0.0012885392643511295, -0.06323829293251038, 0.011384254321455956, 0.023694198578596115, 0.008726293221116066, 0.04266488552093506, 0.011079449206590652, -0.04164066165685654, -0.004227518569678068, 0.019270285964012146, -0.025479963049292564, -0.010147360153496265, -0.01378236711025238, -0.02786475047469139, -0.04879742115736008, -0.09163845330476761, 0.05503975600004196, 0.03807094693183899, 0.010702233761548996, -0.007016078568994999, 0.021271225064992905, -0.01519071962684393, 0.0347355455160141, 0.04082038253545761, -0.018191391602158546, -0.04218541830778122, -0.016912013292312622, -0.00831502303481102, -0.03831692412495613, -0.022546211257576942, 0.01461682841181755, -0.04133961349725723, -0.03674016892910004, 0.010311059653759003, 0.0001879923656815663, 0.03645152971148491, -0.03283008188009262, -0.0016099518397822976, -0.011480866000056267, 0.027091825380921364, -0.02548803761601448, -0.022470707073807716, -0.04064564406871796, -0.0063862064853310585, 0.030082376673817635, -0.009959758259356022, -0.009544946253299713, 0.02033820003271103, 0.006674384698271751, -0.011155660264194012, 0.011994612403213978, -0.01205416675657034, 0.006879833061248064, -0.0237822737544775, -0.030186964198946953, -0.02208854816854, 0.04507220536470413, -0.004602747969329357, -0.00859083328396082, -0.024493426084518433, 0.003823152044788003, 0.005862708669155836, -0.004212876781821251, -0.00179022247903049, 0.06567351520061493, 0.015249945223331451, 0.05176776275038719, -0.03762110695242882, -0.00784636102616787, -0.011434468440711498, 0.009571507573127747, 0.06134423241019249, -0.01886560581624508, -0.03400096669793129, 0.0247948095202446, 0.004996892996132374, 0.05521911382675171, 0.007240998558700085, -0.008349435403943062, 0.06033359840512276, 0.010749106295406818, -0.02154535800218582, 0.011335021816194057, -0.009475881233811378, 0.00017786411626730114, -0.05436335504055023, 0.02119331806898117, -0.011820115149021149, 0.022269899025559425, -0.017250720411539078, -0.020373830571770668, -0.02568424679338932, -0.026562191545963287, -0.07553926855325699, 0.0379493348300457, 0.010166154243052006, -0.032246772199869156, -0.004039738327264786, -0.050409022718667984, -0.0010772941168397665, -0.029532168060541153, -0.018708232790231705, 0.042402878403663635, 0.003922770265489817, 0.04218867048621178, 0.04724188894033432, 0.0077060433104634285, 0.0010827920632436872, -0.049733489751815796, 0.006329433061182499, -0.016192246228456497, -0.036251265555620193, -0.009309002198278904, -0.027231216430664062, -0.015028854832053185, 0.014500652439892292, -0.0034218349028378725, -0.020349161699414253, -0.025429820641875267, 0.00993905495852232, 0.013248990289866924, -0.0202800240367651, 0.008585475385189056, -0.023342154920101166, -0.0029681664891541004, -0.03889096900820732, -0.005928556900471449, 0.020163053646683693, 0.0018863233271986246, -0.026827432215213776, -0.028746318072080612, 0.05256904661655426, -0.024866700172424316, -0.010640022344887257, -0.012143965810537338, -0.029671374708414078, 0.010947153903543949, -0.020879028365015984, -0.0556061789393425, -0.03339892625808716, -0.003706450806930661, 0.026393694803118706, 0.0051599228754639626, 0.008124801330268383, 0.019793523475527763, -0.0172127652913332, -0.031072530895471573, -0.013057425618171692, -0.0320216529071331, -0.033099181950092316, 0.0036225621588528156, 0.0028685969300568104, -0.03991631045937538, -0.00861896388232708, -0.026233194395899773, -0.007904769852757454, -0.0242768507450819, -0.06397519260644913, -0.012443303130567074, -0.025021737441420555, -0.02486894093453884, -0.015387731604278088, -0.007439465261995792, 0.00928741879761219, 0.022420275956392288, -0.022980166599154472, -0.0055689578875899315, -0.02171492390334606, 0.02298983372747898, -0.008778289891779423, -0.0010976294288411736, -0.03378796949982643, 0.011987204663455486, 0.005791260860860348, 0.026958288624882698, 0.003914531785994768, 0.012822224758565426, 0.0014800293138250709, 0.01719224639236927, -0.003970088437199593, 0.005593855399638414, -0.013179317116737366, 0.053078602999448776, -0.004205239005386829, -0.053806837648153305, 0.0020886464044451714, 0.02754705399274826, 0.0015470507787540555, 0.009008185938000679, 0.03142458572983742, 0.04391418397426605, -0.018140267580747604, 0.021434428170323372, -0.0010562415700405836, 0.0010416031582280993, -0.023299019783735275, 0.04436706006526947, -0.02190309949219227, -0.013363564386963844, -0.026758188381791115, 0.005513077601790428, 0.016968177631497383, -0.047936830669641495], stored_chunk_id=None, chunk_id='b1bf8306-ac9a-4fc5-99d8-bb573d7396b5'), Chunk(content='● Resolution:\\n- Quota Issues: Request an increase in your cloud provider volume limits.\\n- Zone Mismatch: Ensure your StatefulSet/Deployment uses node affinity or that your StorageClass is configured with volumeBindingMode: WaitForFirstConsumer to delay volume creation until a pod is scheduled.\\n- Recreate Pod: Once the underlying issue is fixed, you may need to delete the pod to force the scheduler to retry: kubectl delete pod <pod-name> -n <namespace>.\\n- Prevention:\\n- Monitor Quotas: Implement alerts in your cloud provider to warn when you approach 80% of volume or attachment quotas.\\n- Pre-provision Headroom: For critical StatefulSets, pre-provision a small buffer of PersistentVolumes.\\nKey Alert (Prometheus/Events) Alerting on FailedAttachVolume events is the most direct method (often requires an event-monitoring tool). You can also track the phase of PVs.', metadata={'document_id': 'SREIPS-Prod-troubleshooting-Knowledge-Base', 'file_name': 'SREIPS-Prod-troubleshooting-Knowledge-Base', 'token_count': 210.0, 'metadata_token_count': 87.0}, chunk_metadata=None, embedding=[-0.0008303810027427971, -0.08236926048994064, -0.047969866544008255, -0.05166447162628174, -0.03509971871972084, -0.05406669154763222, 0.04616579785943031, -0.042834121733903885, -0.013305548578500748, 0.05630258470773697, -0.04024917632341385, 0.010805616155266762, -0.019442841410636902, -0.002663124818354845, -0.012092218734323978, -0.0416494645178318, -0.011279093101620674, 0.04878666251897812, -0.045462269335985184, -0.020808929577469826, 0.018978426232933998, -0.020880647003650665, -0.014611221849918365, -0.04558064043521881, 0.0037335455417633057, -0.022812487557530403, 0.047128576785326004, 0.05598227679729462, 0.009999338537454605, 0.004940218757838011, -0.017453443259000778, -0.019320258870720863, 0.012547490186989307, 0.001237269607372582, 0.042759161442518234, -0.015894798561930656, 0.020878829061985016, -0.0026548125315457582, 0.017847057431936264, -0.016115892678499222, -0.003255758434534073, 0.026957258582115173, -0.024810878559947014, -0.018377110362052917, 0.019470149651169777, -0.040211573243141174, 0.017900558188557625, -0.032040391117334366, -0.04545719921588898, 0.017513511702418327, 0.021945545449852943, -0.0020651838276535273, -0.03267912194132805, -0.034725382924079895, 0.04490536078810692, -0.011462641879916191, 0.022121652960777283, -0.04042910784482956, 0.00426761107519269, -0.01922784186899662, -0.018685851246118546, -0.0159425288438797, -0.004231629427522421, 0.018653294071555138, 0.005999670829623938, 0.003616092959418893, 0.008089964278042316, -0.014631407335400581, -0.052106212824583054, -0.02674942836165428, 0.02415470965206623, 0.01819460839033127, 0.008264264091849327, -0.02043623849749565, 0.0009702679235488176, -0.0037522546481341124, -0.05648348852992058, -0.016860274598002434, 0.010661249980330467, 0.04068411514163017, -0.007424950134009123, -0.007355004549026489, -0.008182876743376255, -0.012992043979465961, -0.011174524202942848, -0.023983577266335487, -0.030146894976496696, -0.010408422909677029, -0.039594266563653946, -0.026071839034557343, -0.013124511577188969, -0.004660768434405327, 0.007966401055455208, -0.03143332526087761, -0.002110549481585622, -0.020976629108190536, -0.027889758348464966, -0.03848563879728317, 0.006028629839420319, -0.00208583427593112, 0.02499246783554554, 0.0040484266355633736, -0.008505015634000301, 0.02380143664777279, 0.052183669060468674, -0.020771555602550507, -0.010418098419904709, -0.005173226818442345, 0.0036288821138441563, -0.007653167471289635, 0.009553960524499416, -0.020678052678704262, -0.061293866485357285, 0.053195685148239136, 0.01582248881459236, -0.0022882563062012196, 0.00223232782445848, -0.009029841050505638, 0.014344626106321812, -0.024742167443037033, 0.023805368691682816, -0.0359906367957592, 0.011761975474655628, -0.03904380276799202, -0.012886647135019302, 0.0017011251766234636, -0.014936501160264015, 0.045938894152641296, 0.039613205939531326, -0.014768389984965324, -0.0011870150920003653, -0.004832777660340071, 0.024444013833999634, 0.00574756134301424, -0.0628778338432312, 0.0007142627728171647, -0.0005823732353746891, 0.033561792224645615, -0.02123383805155754, -0.02025429531931877, -0.016417469829320908, 0.028942296281456947, -0.019365765154361725, 0.016661575064063072, -0.03745551407337189, 0.018939394503831863, 0.033776748925447464, -0.03719374164938927, 0.0041980743408203125, 0.0007115648477338254, -0.02839338406920433, -0.04568753391504288, 0.011562413536012173, 0.03265891224145889, -0.00883648730814457, 0.022591112181544304, 0.06806141883134842, -0.022344985976815224, -0.019572526216506958, -0.001368213095702231, -0.025907987728714943, -0.015728900209069252, -0.03707919642329216, -0.01917535811662674, -0.0343802236020565, 0.015541544184088707, -0.030058596283197403, 0.03332466632127762, 0.001599784940481186, -0.040174972265958786, -0.012354094535112381, -0.01703721098601818, -0.034525997936725616, 0.013300759717822075, -0.00536818103864789, -0.00020854873582720757, 0.009462179616093636, -0.031173935160040855, 0.014028812758624554, -0.02197837084531784, 0.02010015770792961, 0.026149438694119453, -0.0119433319196105, -0.005550177302211523, 0.004984450992196798, -0.05391722172498703, -0.0248253233730793, 0.015398186631500721, -0.01284219790250063, -0.04218248650431633, -0.010205279104411602, 0.012556105852127075, 0.0035482090897858143, -0.037380870431661606, 0.011860574595630169, 0.018255917355418205, -0.005892590619623661, -0.0015964274061843753, -0.05649548023939133, -0.010138790123164654, -0.01698707416653633, 0.0010028183460235596, -0.023561226204037666, 0.0003804154694080353, -0.0032266578637063503, 0.04634718969464302, -0.009740249253809452, 0.004664428997784853, 0.04396999999880791, -0.03902246803045273, -0.0017002028180286288, -0.047475624829530716, -0.010928601957857609, -0.31562891602516174, 0.031023364514112473, 0.020904581993818283, -0.30839696526527405, -0.03835344314575195, -0.04191960394382477, -0.024756764993071556, 0.013271537609398365, 0.0020743447821587324, 0.010981131345033646, -0.039699897170066833, -0.007687452714890242, 0.008554979227483273, 0.0045965276658535, 0.05647508054971695, -0.044552844017744064, -0.02406742423772812, 0.032121989876031876, -0.001883269171230495, -0.04590150713920593, 0.00939919427037239, -0.01956939697265625, -0.03588784858584404, 0.004754354711622, -0.006003627087920904, -0.011794242076575756, -0.004813858307898045, -0.026172038167715073, 0.029497496783733368, 0.008875916711986065, 0.05387840047478676, -0.01599728874862194, -0.03559223189949989, 0.0007254504016600549, 0.017231088131666183, -0.027249924838542938, -0.06629911810159683, -0.006902589928358793, 0.030261266976594925, -0.3031309247016907, -0.0140564339235425, -0.012383071705698967, -0.04188212752342224, 0.005889606662094593, -0.03378238156437874, 0.014258201234042645, -0.014185747131705284, 0.03944398835301399, -0.0170929953455925, 0.025781795382499695, -0.004632369615137577, -0.011195911094546318, 0.015690283849835396, 0.0441497303545475, -0.02387024648487568, 0.006645791232585907, 0.032377056777477264, -0.014036793261766434, 0.03051018714904785, 0.016701262444257736, 0.0492459274828434, -0.06567423790693283, -0.020752670243382454, 0.029239220544695854, -0.05304153636097908, -0.07054386287927628, -0.013677149079740047, -0.021869800984859467, -0.004816836211830378, 0.016098063439130783, -0.013691142201423645, 0.009769945405423641, -0.020956598222255707, -0.004963764455169439, 0.0329873152077198, -0.03663020581007004, 0.023950746282935143, -0.008689116686582565, 0.008805993013083935, 0.012219281867146492, -0.011589807458221912, 0.04859383404254913, 0.02400025725364685, -0.023273320868611336, -0.04268985986709595, 0.012684443034231663, -0.022888293489813805, -0.007290163077414036, 0.020662376657128334, 0.0005965157179161906, -0.0068870652467012405, -0.011215906590223312, 0.011555351316928864, -0.01221141591668129, 0.03134363517165184, -0.004940824117511511, 0.06293024867773056, 0.03449764475226402, -0.0079445019364357, -0.015203220769762993, 0.0262908898293972, -0.012871947139501572, -0.030805043876171112, -0.01858578436076641, -0.0217533428221941, -0.008735213428735733, -0.0243219044059515, -0.03800195828080177, 0.037661947309970856, -0.01607203483581543, -0.007462174165993929, -0.012377179227769375, -0.023261504247784615, -0.003052222076803446, -0.019252834841609, 0.01649159938097, 0.024673666805028915, -0.02484467439353466, 0.024948177859187126, -0.019252443686127663, -0.030891789123415947, -0.004540964495390654, 0.004185548052191734, -0.011334989219903946, -0.02768789790570736, -0.04987168312072754, 0.023005763068795204, 0.052633825689554214, 0.045619528740644455, 0.01965492218732834, 0.007824620231986046, -0.021439088508486748, -0.04565201699733734, -0.03327419236302376, -0.005575092043727636, -0.01949334517121315, -0.04047041013836861, 0.02162572741508484, -0.00996558926999569, 0.003994757309556007, 0.014130937866866589, 0.006584631744772196, -0.017849097028374672, 0.06385616213083267, 0.05759982392191887, -0.006196519359946251, -0.05982024967670441, 0.0210505910217762, 0.0652318224310875, -0.02688964456319809, -0.05449623987078667, 0.008626640774309635, -0.026805870234966278, -0.008840044029057026, -0.02189551666378975, 0.005648513790220022, -0.04453933238983154, -0.01535826176404953, -0.0012884109746664762, -0.00039859238313511014, -0.03508882224559784, -0.03260744363069534, -0.041056077927351, 0.005763085093349218, -0.028437504544854164, -0.027687624096870422, -0.028478847816586494, 0.036216605454683304, -0.018421417102217674, 0.019761180505156517, 0.01274004764854908, -0.013081885874271393, -0.007712528575211763, 0.0500616617500782, 0.01020510122179985, -0.005591873079538345, -0.0031146607361733913, 0.011423560790717602, -0.00354534899815917, -0.008954226039350033, -0.00642027473077178, 0.028034694492816925, 0.01609010435640812, -0.007651610299944878, 0.025354979559779167, -0.0013836122816428542, -0.0037845056504011154, -0.010778481140732765, 0.012754132971167564, -0.00506007531657815, 0.035506099462509155, -0.030642183497548103, 0.10506049543619156, 0.0015121478354558349, -0.020497238263487816, 0.06663531064987183, -0.005298246163874865, 0.025948522612452507, -0.026651745662093163, -0.004184069111943245, -0.050760913640260696, 0.020771432667970657, 0.016542524099349976, -0.024933727458119392, 0.003166993847116828, -0.01784122735261917, 0.008758646436035633, -0.06063569709658623, 0.025666702538728714, -0.009319000877439976, 0.04557265341281891, 0.3736492991447449, -0.00785517692565918, -0.028706450015306473, -0.05077255144715309, 0.03226761892437935, 0.01649799756705761, 0.042491547763347626, 0.0017847376875579357, -0.03640733286738396, -0.013240817002952099, 0.07774659246206284, -0.009838847443461418, 0.004278269130736589, 0.015968073159456253, 0.005723472218960524, -0.018738050013780594, -0.02342463843524456, 0.014762233942747116, -0.02223031595349312, 0.009745911695063114, -0.005821354687213898, 0.03179670870304108, 0.01630709320306778, -0.024993544444441795, 0.003563148668035865, -0.007247975096106529, 0.0440148264169693, 0.011093446053564548, 0.03221791237592697, -0.008538885973393917, -0.014366338029503822, 0.018019039183855057, -0.003953020554035902, 0.031367845833301544, 0.019969051703810692, 0.0032038562931120396, -0.04654424265027046, 0.004309423267841339, -0.014149324037134647, 0.007182994391769171, 0.024285031482577324, -0.007359769195318222, 0.0062462505884468555, 0.0582004152238369, 0.05172233656048775, -0.01892896555364132, 0.008789961226284504, -0.01513200718909502, -0.005548196379095316, -0.022182820364832878, -0.02290225960314274, -0.00664294371381402, -0.07032566517591476, 0.02114543318748474, -0.002747589722275734, -0.03753655403852463, -0.04120452329516411, 0.02591671794652939, -0.015359697863459587, -0.029273919761180878, -0.012527295388281345, 0.04881197586655617, -0.020577818155288696, -0.04701974615454674, -0.00012199507909826934, -0.0060406834818422794, -0.007732232101261616, -0.02291000261902809, -0.014809689484536648, 0.007256308104842901, 0.02512773871421814, -0.03979866951704025, -0.01820445992052555, 0.0793793797492981, -0.002389756962656975, -0.012375655584037304, 0.000717342714779079, -0.0008589819190092385, 0.02593468315899372, 0.03865426778793335, 0.01495773158967495, 0.04367464408278465, 9.573670104146004e-05, -0.0012471857480704784, 0.006539421156048775, -0.004886086564511061, -0.038341883569955826, 0.04075350984930992, 0.0021226531825959682, 0.026775313541293144, -0.0024922878947108984, -0.0038150439504534006, -0.053848884999752045, 0.01250806637108326, -0.002369427355006337, 3.824941086350009e-05, 0.030694495886564255, 0.0028904289938509464, 0.013560225255787373, 0.013761120848357677, -0.007268542889505625, 0.03172430023550987, -0.0017877292120829225, 0.019527144730091095, -0.0026925033889710903, -0.043550215661525726, 0.02393358200788498, -0.005098639987409115, -0.028387226164340973, 0.012948065996170044, -0.003528218250721693, 0.0001385998330079019, -0.0068831429816782475, 0.09918133169412613, 0.005123858340084553, -0.0013025755761191249, -0.027797482907772064, 0.02297046035528183, -0.012739499099552631, -0.08530523627996445, -0.03465054929256439, -0.006711522117257118, -0.019224535673856735, -0.013281027786433697, 0.001853983849287033, 0.03181489184498787, 0.0068645658902823925, -0.03926580399274826, 0.02058858424425125, 0.05503064766526222, -0.01226822193711996, -0.01795254461467266, -0.009617655538022518, 0.021861128509044647, 0.01257691252976656, -0.028784796595573425, 0.017898395657539368, 0.0258503220975399, -0.011046294122934341, -0.010670938529074192, -0.0443841889500618, 0.023792166262865067, -0.028959782794117928, 0.014107287861406803, 0.043476928025484085, -0.012462420389056206, 0.025478506460785866, 0.024991050362586975, -0.04708639904856682, 0.016083816066384315, 0.023022320121526718, -0.011963610537350178, 0.0015697606140747666, -0.01279509998857975, -0.011960776522755623, -0.025247126817703247, -0.07991180568933487, 0.046369198709726334, 0.04601562023162842, 0.021594204008579254, 0.0014769156696274877, 0.018658656626939774, -0.0241201464086771, 0.03039209544658661, 0.04902634769678116, -0.020768841728568077, -0.017141267657279968, 0.010454785078763962, -0.01654641516506672, -0.00020367151591926813, -0.014546729624271393, -0.0009250837028957903, -0.011758847162127495, -0.041019257158041, 0.0207723006606102, 0.001532113179564476, 0.01011662743985653, -0.0528077557682991, -0.024636896327137947, -0.008507851511240005, 0.041256505995988846, -0.03979792073369026, -0.015263604000210762, -0.06198731064796448, 0.005904493387788534, -0.012568237259984016, 0.007967996411025524, -0.0025705459993332624, 0.017962204292416573, -0.011038167402148247, -0.0006889881915412843, 0.000201622155145742, -3.400407513254322e-05, -0.026042096316814423, -0.02374924346804619, -0.026078643277287483, -0.015559747815132141, 0.007213256787508726, 0.02178157866001129, -0.015815390273928642, -0.0038076399359852076, -0.0038470670115202665, 0.01054028794169426, 0.005371913313865662, 0.012971132062375546, 0.03473386541008949, 0.003273282665759325, 0.011020466685295105, -0.03511887416243553, -0.014142883941531181, -0.025466298684477806, 0.009946304373443127, 0.05731245502829552, -0.00946689024567604, -0.051919326186180115, 0.038112442940473557, 0.012841656804084778, 0.04043556749820709, 0.006971471011638641, -0.023492885753512383, 0.06732695549726486, 0.00010394598939456046, -0.021179310977458954, 0.011854121461510658, -0.015616856515407562, -0.004695253446698189, -0.04105381295084953, 0.014304140582680702, 0.004407648928463459, 0.02143339067697525, -0.014058555476367474, 0.0014160803984850645, 0.020252011716365814, -0.01969819888472557, -0.041761111468076706, 0.03588613495230675, -0.02294333465397358, 0.0027254929300397635, -0.029985835775732994, -0.024059053510427475, -0.020579880103468895, -0.019553912803530693, -0.018458770588040352, 0.028964392840862274, 0.025495972484350204, 0.04264266416430473, 0.00676973769441247, -0.005688028410077095, -0.029606934636831284, -0.04976626858115196, -0.0024114425759762526, -0.029008062556385994, -0.01990392804145813, 3.102746632066555e-05, -0.03380066156387329, -0.02020953595638275, 0.003086563665419817, -0.007632454391568899, -0.00291572418063879, -0.04566017538309097, 0.001209475565701723, -0.004087195266038179, -0.017989495769143105, 0.021498654037714005, -0.013475983403623104, -0.022738581523299217, -0.02995440922677517, -0.009279313497245312, 0.009221664629876614, -0.006981513928622007, -0.024994129315018654, -0.02091997116804123, 0.04654744267463684, -0.00989385787397623, 0.005525812041014433, -0.007394335698336363, -0.045432500541210175, 0.006260923109948635, -0.033342353999614716, -0.05480591207742691, -0.040996138006448746, -0.0064962743781507015, 0.0339883528649807, 0.0036038209218531847, 0.016044843941926956, 0.008880220353603363, -0.03772224858403206, -0.013234068639576435, -0.008649947121739388, -0.04605476185679436, -0.04444008693099022, -0.0026270609814673662, -0.03663897514343262, -0.03941364586353302, -0.01930825598537922, -0.025384491309523582, -0.009435328654944897, -0.014077559113502502, -0.05960492044687271, 0.01533872913569212, -0.03599979355931282, -0.05902242660522461, -0.00837418157607317, 0.007684154435992241, 0.0012640528148040175, 0.004413542803376913, -0.026351796463131905, 0.0007932811276987195, -0.03874592483043671, 0.005289142951369286, 0.006842987146228552, 0.011757108382880688, -0.053786925971508026, 0.005273140501230955, 0.009180058725178242, 0.018283646553754807, -6.771417974960059e-05, 0.01548625435680151, -0.005864286329597235, 0.016136910766363144, -0.003770050359889865, 0.004589322488754988, -0.011615846306085587, 0.04397466033697128, -0.008657921105623245, -0.03173407167196274, 0.0025119727943092585, 0.031407807022333145, -0.005211822222918272, 0.005875481758266687, -0.009459276683628559, 0.047460343688726425, -0.010985992848873138, -0.0055207437835633755, 0.007760956417769194, 0.021988535299897194, -0.019420916214585304, 0.031036876142024994, -0.014642564579844475, -0.02248106524348259, -0.018296051770448685, 0.020212342962622643, 0.0336286798119545, -0.05780892074108124], stored_chunk_id=None, chunk_id='f0693837-6df6-48e3-9f5c-a9531b315f78'), Chunk(content='Diagnostic Playbook\\n1. Identify Pending Pod:\\n2. Describe the Pod: This is the most important command. Check the Events section at the bottom.\\n- Look for events like:\\n4. ■ Warning FailedAttachVolume ... AttachVolume.Attach failed for volume \"pvc-...\" : ... cloud provider error: volume limit exceeded\\n5. ■ Warning FailedMount ... MountVolume.NewVolume provisioner ... failed to provision volume ...\\n6. ■ Warning FailedScheduling ... 0/3 nodes are available: 1 node(s) had a volume node affinity conflict.\\n3. Check Cloud Provider Console: Based on the error, log in to your cloud provider (AWS, GCP, Azure) and check:\\n- Volume quotas (e.g., EBS volume limits per region, snapshot quotas).\\n- Per-instance attachment limits.', metadata={'document_id': 'SREIPS-Prod-troubleshooting-Knowledge-Base', 'file_name': 'SREIPS-Prod-troubleshooting-Knowledge-Base', 'token_count': 183.0, 'metadata_token_count': 83.0}, chunk_metadata=None, embedding=[-0.014419550076127052, -0.09177778661251068, -0.049840912222862244, -0.05273646488785744, -0.03644069284200668, -0.05596480146050453, 0.01990017667412758, -0.04263850674033165, -0.01631290093064308, 0.04975791648030281, -0.041489098221063614, 0.0043332744389772415, -0.02260914072394371, -0.005007100757211447, -0.011748608201742172, -0.043112147599458694, -0.019453246146440506, 0.04738590121269226, -0.04082328453660011, -0.022161584347486496, 0.02003340795636177, -0.026159144937992096, -0.02606806345283985, -0.03465281054377556, -0.002075831638649106, -0.044934533536434174, 0.04126220941543579, 0.03776736184954643, 0.007220984902232885, 0.023936614394187927, -0.015903152525424957, -0.010222950018942356, 0.028784124180674553, -0.004720626398921013, 0.05025329440832138, -0.00240779435262084, 0.034633927047252655, 0.0018885242752730846, -0.0029673271346837282, -0.017201153561472893, -0.006708129309117794, 0.04745807126164436, -0.0326153039932251, -0.03517508506774902, 0.018548086285591125, -0.031044894829392433, 0.013704420998692513, -0.007905717939138412, -0.048733197152614594, 0.010612506419420242, 0.018346987664699554, -0.015149475075304508, -0.03108948841691017, -0.03158624842762947, 0.032740551978349686, -0.006583085749298334, 0.026189399883151054, -0.026992501690983772, -0.0014921579277142882, -0.017112992703914642, -0.021411346271634102, -0.004450102802366018, -0.007843698374927044, 0.0034051453694701195, 0.00611496064811945, 0.011359826661646366, -0.001531651709228754, -0.01142081432044506, -0.05666917562484741, -0.024710481986403465, 0.028937000781297684, 0.023250536993145943, -0.0063599408604204655, -0.05134391412138939, 0.0010401279432699084, -0.0211501307785511, -0.047939907759428024, -0.029260307550430298, -0.003235311945900321, 0.04475262388586998, 0.016617288812994957, -0.00397796556353569, -0.02249092236161232, -0.026371711865067482, -0.015307283028960228, -0.03555945307016373, -0.03512025251984596, 0.004983036778867245, -0.04651745408773422, 0.006471916101872921, -0.018955180421471596, 0.012077059596776962, 0.010894292034208775, -0.007828928530216217, 0.025211161002516747, -0.001418411498889327, -0.05195989832282066, -0.03796693682670593, -0.009011499583721161, -0.009509571827948093, 0.024942124262452126, -0.015816083177924156, -0.01429791934788227, 0.0056449067778885365, 0.05309053510427475, 0.008659593760967255, -0.013131299056112766, -0.016037799417972565, 0.013020330108702183, -0.021311480551958084, 0.0219125859439373, -0.005584923084825277, -0.05029992014169693, 0.04071864113211632, 0.001427467679604888, 0.018338419497013092, -0.023546669632196426, -0.004141300916671753, 0.020482609048485756, -0.029455652460455894, 0.026490559801459312, -0.04010326415300369, 0.01130891963839531, -0.028135187923908234, -0.030226515606045723, 0.017317794263362885, -0.020459195598959923, 0.04487376660108566, 0.02089732140302658, -0.0037146105896681547, 0.017105866223573685, 0.008361023850739002, 0.05198981985449791, 0.013099522329866886, -0.05924272909760475, 0.002366411266848445, -0.003858421463519335, 0.04332450032234192, -0.04704137519001961, -0.010841617360711098, -0.028455233201384544, 0.05278456211090088, -0.024085042998194695, 0.004227275028824806, -0.026731126010417938, 0.014988245442509651, 0.05520803853869438, -0.03959542140364647, 0.036772336810827255, -0.004195254761725664, -0.022031456232070923, -0.04475846886634827, 0.03417422994971275, 0.042307049036026, 0.0031502589117735624, 0.010942050255835056, 0.05333630368113518, -0.03699682652950287, -0.029513228684663773, -0.0008686650544404984, 0.010627112351357937, -0.020113041624426842, -0.050584565848112106, -0.020415782928466797, -0.029447775334119797, 0.007096202578395605, -0.035848550498485565, 0.012377201579511166, -0.0033390317112207413, -0.04850319027900696, -0.011256495490670204, -0.02340085618197918, -0.005764252506196499, 0.009029051288962364, -0.01507058460265398, -0.018646100535988808, 0.019964220002293587, -0.017063533887267113, 0.02992372214794159, -0.009581939317286015, 0.03409722074866295, 0.02577432245016098, -0.0020530179608613253, -0.016307683661580086, 0.006027535535395145, -0.03730713203549385, -0.028129028156399727, -0.005981164518743753, -0.009729878976941109, -0.04135626181960106, -0.018001392483711243, 0.010982157662510872, -7.211470801848918e-05, -0.05632053688168526, 0.025448810309171677, 0.005984148941934109, -0.028965774923563004, -0.026629967615008354, -0.086127370595932, 0.008943058550357819, -0.005758908111602068, 0.0024548801593482494, -0.028189348056912422, -0.014744680374860764, 0.013217066414654255, 0.029664838686585426, -0.0061739543452858925, 0.023619018495082855, 0.03391064330935478, -0.03347961977124214, -0.02875910885632038, -0.05594921484589577, -0.026279186829924583, -0.3032706677913666, 0.040386077016592026, 0.024408746510744095, -0.3154201805591583, -0.02448648028075695, -0.024055954068899155, -0.02843056619167328, 0.0006892977398820221, -0.01826222613453865, 0.020093491300940514, -0.03392576053738594, 0.007066675927489996, 0.013319398276507854, 0.01763663813471794, 0.055016640573740005, -0.08252169191837311, -0.018824394792318344, 0.04901326820254326, -0.042555101215839386, -0.06887227296829224, -0.009032431058585644, -0.03273025155067444, -0.03567122668027878, 0.0013823029585182667, -0.00509506743401289, -0.0005051092011854053, -0.008491151034832, -0.00970763061195612, -0.01863146387040615, 0.020091447979211807, 0.047120966017246246, -0.02738594263792038, -0.0280679389834404, 0.001023086137138307, 0.01504349522292614, -0.057249605655670166, -0.04675127565860748, 0.003080065594986081, 0.029315108433365822, -0.2925865650177002, 0.006372547708451748, 0.007954600267112255, -0.020068775862455368, 0.017949504777789116, -0.03343312069773674, 0.03434276580810547, -0.011568518355488777, 0.04263788461685181, -0.03355841711163521, 0.03082329034805298, -0.005297686439007521, -0.01198595017194748, 0.020449582487344742, 0.03274351358413696, -0.017260225489735603, 0.001952091814018786, 0.010287825018167496, -0.028972631320357323, 0.030763724818825722, 0.011766449548304081, 0.03498341888189316, -0.05252910405397415, -0.011667564511299133, 0.010569438338279724, -0.05932774022221565, -0.05053100734949112, -0.014964007772505283, -0.02032955177128315, 0.003296563634648919, 0.0023971684277057648, -0.015388996340334415, -0.001594456611201167, -0.011151659302413464, -0.0031815527472645044, 0.023467950522899628, -0.04474209249019623, 0.025349128991365433, 0.002205149969086051, 0.0009351517073810101, 0.005253121256828308, -0.02269548922777176, 0.03232942521572113, -0.004849116317927837, -0.00988590344786644, -0.0406278520822525, 0.00799369066953659, -0.030637698248028755, -0.021041592583060265, 0.0030463337898254395, -0.003179543651640415, -0.008467862382531166, -0.012328608892858028, 0.01778305694460869, -0.017976120114326477, 0.036602966487407684, 0.0033474129159003496, 0.0523771196603775, 0.03355788066983223, -0.008009525947272778, -0.02165786549448967, -0.003411509795114398, -0.019323086366057396, -0.02669711783528328, -0.021089784801006317, -0.013196684420108795, 0.007907146587967873, -0.0035693785175681114, -0.033076271414756775, 0.002858480205759406, -0.03715701401233673, -0.01944648288190365, 0.009325946681201458, -0.02824784256517887, -0.007533271797001362, -0.013461885042488575, 0.007871902547776699, 0.03287609666585922, -0.0172784011811018, 0.021748743951320648, -0.01860560104250908, -0.033511631190776825, -0.00513832364231348, -0.0026951958425343037, -0.005497667472809553, -0.010241515934467316, -0.03484438359737396, 0.0045343078672885895, 0.05742846429347992, 0.05086304992437363, 0.008502325974404812, 0.009716743603348732, -0.014197825454175472, -0.05262349545955658, -0.03764989599585533, -0.026491058990359306, -0.04243302345275879, -0.001552529283799231, 0.020637935027480125, -0.01451638899743557, 0.004692154936492443, 0.018744438886642456, -0.012552252039313316, -0.0242539644241333, 0.06585153937339783, 0.05201917514204979, -0.007506916765123606, -0.02728596143424511, 0.016709154471755028, 0.04571337625384331, -0.029354378581047058, -0.07024624198675156, 0.024920588359236717, -0.017204532399773598, 0.00768389692530036, -0.009501819498836994, 0.011520076543092728, -0.04208316281437874, -0.014386244118213654, 0.00952572375535965, -0.008015020750463009, -0.025833655148744583, -0.02002502605319023, -0.05256940424442291, 0.021961228922009468, -0.038515131920576096, -0.01596703939139843, -0.04364866018295288, 0.029466191306710243, -0.026015127077698708, 0.008107868954539299, -0.0021761739626526833, -0.006404973566532135, 0.010963180102407932, 0.04822670295834541, 0.01658117212355137, 0.002079039579257369, 0.007563839200884104, 0.015572138130664825, 0.0015632660361006856, 0.010193828493356705, 0.004062454681843519, 0.014532135799527168, -0.0038732592947781086, -0.016420556232333183, 0.0034636654891073704, 0.015363067388534546, -0.00011999724665656686, -0.01750168949365616, 0.02790447510778904, 0.008634031750261784, 0.05257604643702507, -0.0025613841135054827, 0.08776818215847015, 0.018472563475370407, -0.003912174142897129, 0.05680110678076744, -0.005489319562911987, 0.027893736958503723, -0.022084079682826996, -0.01018520351499319, -0.05160113796591759, 0.04639106243848801, -0.0036111357621848583, -0.019378071650862694, 0.03133341670036316, 0.0016263623256236315, 0.018991079181432724, -0.050221916288137436, 0.031197482720017433, -0.013394731096923351, 0.04125501215457916, 0.35815396904945374, 0.001381410052999854, -0.0414729118347168, -0.04569548740983009, 0.006426921579986811, -0.011497125029563904, 0.04294562712311745, 0.0011888720327988267, -0.025781167671084404, -0.011650975793600082, 0.08172125369310379, -0.013506067916750908, -0.0027451305650174618, 0.025507554411888123, 0.0014674016274511814, -0.026529928669333458, -0.018051736056804657, 0.023072736337780952, -0.039074141532182693, 0.005407408811151981, -0.014583730138838291, 0.01746651902794838, 0.0112918084487319, -0.012742695398628712, -0.015236817300319672, -0.023741425946354866, 0.022047726437449455, 0.011865757405757904, 0.03282775729894638, 0.00258918316103518, -0.017244648188352585, 0.006636469624936581, -0.016350295394659042, 0.01929202303290367, 0.040385693311691284, -0.002877152292057872, -0.02575784921646118, 0.012745355255901814, -0.0018023709999397397, 0.0003222276864107698, 0.02975156530737877, 0.00596717931330204, -0.007276022806763649, 0.05688890442252159, 0.055083777755498886, -0.026748953387141228, 0.01920093595981598, -0.04043342173099518, -0.004745400510728359, -0.008608663454651833, -0.03389911353588104, -0.006098551210016012, -0.05196457728743553, 0.04101977497339249, -0.0072162579745054245, -0.012804202735424042, -0.039975229650735855, 0.020544299855828285, -0.021971845999360085, -0.03284960240125656, -0.031234025955200195, 0.02848607487976551, -0.01789054088294506, -0.05010082572698593, -0.0055328053422272205, -0.03656119480729103, 0.0030038300901651382, 0.0007815327262505889, -0.007980568334460258, 0.019192222505807877, 0.03681448847055435, -0.030801448971033096, -0.0029219866264611483, 0.06533926725387573, -0.02225843258202076, -0.007540804799646139, -0.001976627390831709, 0.009522547014057636, 0.028472179546952248, 0.042518824338912964, -0.014322925359010696, 0.04404221847653389, -0.015459831804037094, 0.010461888276040554, 0.0018683968810364604, 0.017430352047085762, -0.05184454470872879, 0.038598835468292236, -0.014008860103785992, 0.011818328872323036, -0.009062419645488262, -0.003727847011759877, -0.02715277671813965, 0.029579786583781242, -0.007141835521906614, 0.0013788484502583742, 0.009431976824998856, 0.0018999940948560834, 0.018085986375808716, -0.01562450546771288, 0.010647987946867943, 0.04015452414751053, 0.0021268469281494617, 0.0426674447953701, -0.01944383792579174, -0.032569680362939835, 0.010229836218059063, -0.000749622646253556, -0.048012178391218185, 0.0013883464271202683, -0.022546205669641495, 0.008917691186070442, -0.006911730393767357, 0.0859125405550003, -0.0044396910816431046, -0.012297487817704678, -0.01811927556991577, 0.02265050821006298, -0.035049885511398315, -0.09784626215696335, -0.010797384195029736, -0.008835392072796822, -0.027966931462287903, -0.01498114038258791, 0.010127861984074116, 0.027120325714349747, -0.002224853727966547, -0.016494907438755035, 0.02512088604271412, 0.05265560373663902, -0.02524021454155445, -0.02950206585228443, -0.011881435289978981, 0.015265055932104588, 0.019740300253033638, -0.029586659744381905, -0.0003815157397184521, 0.035158175975084305, -0.0022872155532240868, -0.015408962033689022, -0.02270975336432457, 0.0048521822318434715, -0.04822760075330734, 0.030895916745066643, 0.04611494764685631, 0.0013693870278075337, 0.024358512833714485, 0.012583723291754723, -0.02556747756898403, 0.0029537782538682222, 0.030334336683154106, -0.01422054972499609, 0.0033256234601140022, -0.01610373519361019, -0.019120005890727043, -0.0321817584335804, -0.06968732178211212, 0.012107138521969318, 0.021154280751943588, 0.016360914334654808, 0.00607104878872633, 0.015853485092520714, -0.016244102269411087, 0.02746271900832653, 0.058726076036691666, -0.02756611444056034, -0.03283906355500221, -0.0002963060396723449, 0.008008920587599277, -0.02417226880788803, -0.015039321966469288, 0.011068419553339481, -0.014910710044205189, -0.053774602711200714, 0.016345741227269173, 0.0016503583174198866, 0.02473565936088562, -0.03984822705388069, -0.027455037459731102, -0.020879672840237617, 0.02797652594745159, -0.038552042096853256, -0.019535165280103683, -0.05070463567972183, 0.008447550237178802, -0.008954030461609364, -0.010123631916940212, -0.017501981928944588, 0.03397601470351219, -0.017835065722465515, 0.008714900352060795, -0.006887928117066622, -0.02647489681839943, -0.01758282072842121, -0.0033095497637987137, -0.022797303274273872, -0.033744264394044876, 0.03018234483897686, -0.0008211853564716876, -0.015576069243252277, -0.00025246586301364005, -0.0007765724440105259, 0.001854853704571724, -0.009961574338376522, 0.008056947030127048, 0.054343678057193756, 0.00828036293387413, 0.014038531109690666, -0.01602981425821781, -0.009680620394647121, -0.00829386804252863, 9.44942730711773e-05, 0.04928058385848999, 0.00023092211631592363, -0.037876974791288376, 0.022731313481926918, 0.0069199237041175365, 0.04784275218844414, 0.02350781299173832, -0.000830323901027441, 0.07224941998720169, -0.010778979398310184, -0.0002686669467948377, -0.004107894375920296, -0.007487069815397263, -0.013408420607447624, -0.07061034440994263, 0.023508654907345772, -0.014164073392748833, 0.02163761667907238, -0.023717669770121574, -0.012425434775650501, 0.004326540511101484, -0.02367827668786049, -0.05027853697538376, 0.037938229739665985, -0.04754197224974632, -0.013611966744065285, -0.02813197486102581, -0.026914803311228752, -0.0068436432629823685, -0.014321627095341682, -0.015789614990353584, 0.052055686712265015, -0.0031113859731703997, 0.05708448216319084, 0.03956710174679756, 0.02735968306660652, 0.004304668866097927, -0.04344116523861885, -0.0004075199249200523, -0.020571574568748474, -0.017450528219342232, -0.01397279929369688, -0.0245441272854805, -0.027002496644854546, 0.003969559445977211, 0.005603834521025419, -0.009224291890859604, -0.039677079766988754, 0.021717602387070656, 0.035817280411720276, -0.018666651099920273, 0.022530870512127876, -0.02548488974571228, -0.020724644884467125, -0.03550593554973602, 0.004494925029575825, 0.04682866856455803, 0.019611602649092674, -0.03246442228555679, -0.026328587904572487, 0.05373075231909752, -0.017874687910079956, 0.02817400172352791, 0.006750690750777721, -0.054178450256586075, 0.029784835875034332, -0.010856430977582932, -0.05891542136669159, -0.021559368818998337, -0.011006707325577736, 0.02455950155854225, 0.00107394449878484, 0.004325666930526495, 0.017428234219551086, -0.03036295808851719, 0.012135743163526058, -0.030042123049497604, -0.02737400121986866, -0.03621045500040054, -0.005128424149006605, -0.019157133996486664, -0.06252751499414444, -0.002073299838230014, -0.033139608800411224, 0.010229493491351604, -0.03599410504102707, -0.04579925164580345, -0.01527070440351963, -0.018993213772773743, -0.03274816647171974, -0.02356751821935177, 0.018934275954961777, -0.002495713299140334, 0.01654575765132904, -0.044832099229097366, -0.006004390772432089, -0.0263664647936821, 0.013491716235876083, -0.0034626799169927835, 0.012017670087516308, -0.03547516465187073, 5.989659621263854e-05, -0.002443404868245125, 0.010449805296957493, 0.00047834558063186705, 0.026609905064105988, -0.018891720101237297, 0.01896824687719345, -0.004939427599310875, -0.0024017661344259977, -0.03919981047511101, 0.03159637376666069, 0.007355259265750647, -0.02003462426364422, 0.02597694657742977, 0.03905576094985008, -0.0018990039825439453, -0.003493574680760503, -0.008682206273078918, 0.05288078263401985, -0.013679818250238895, 0.00697431480512023, 0.0142096858471632, 0.0068179224617779255, -0.02354542165994644, 0.03184347227215767, -0.009952952153980732, -0.016265343874692917, -0.017309924587607384, 0.018611647188663483, 0.021462971344590187, -0.037070274353027344], stored_chunk_id=None, chunk_id='ff335f83-91ec-46e1-96a7-45cd483a87ef')])\n",
      "('scores', [0.8968541026115417, 0.8732659220695496, 0.8625918626785278])\n"
     ]
    }
   ],
   "source": [
    "chunks = client.vector_io.query(query=\"volume attachment failures\", vector_db_id=vector_db_id)\n",
    "    \n",
    "for chunk in chunks:\n",
    "    print(chunk)\n"
   ]
  },
  {
   "cell_type": "markdown",
   "metadata": {},
   "source": [
    "### Obsolete code below"
   ]
  },
  {
   "cell_type": "code",
   "execution_count": 200,
   "metadata": {},
   "outputs": [
    {
     "name": "stderr",
     "output_type": "stream",
     "text": [
      "INFO:llama_stack_client._base_client:Retrying request to /v1/tools in 0.458628 seconds\n",
      "INFO:llama_stack_client._base_client:Retrying request to /v1/tools in 0.900825 seconds\n"
     ]
    },
    {
     "ename": "APIConnectionError",
     "evalue": "Connection error.",
     "output_type": "error",
     "traceback": [
      "\u001b[31m---------------------------------------------------------------------------\u001b[39m",
      "\u001b[31mConnectError\u001b[39m                              Traceback (most recent call last)",
      "\u001b[36mFile \u001b[39m\u001b[32m~/Projects/sreips/.venv/lib/python3.12/site-packages/httpx/_transports/default.py:101\u001b[39m, in \u001b[36mmap_httpcore_exceptions\u001b[39m\u001b[34m()\u001b[39m\n\u001b[32m    100\u001b[39m \u001b[38;5;28;01mtry\u001b[39;00m:\n\u001b[32m--> \u001b[39m\u001b[32m101\u001b[39m     \u001b[38;5;28;01myield\u001b[39;00m\n\u001b[32m    102\u001b[39m \u001b[38;5;28;01mexcept\u001b[39;00m \u001b[38;5;167;01mException\u001b[39;00m \u001b[38;5;28;01mas\u001b[39;00m exc:\n",
      "\u001b[36mFile \u001b[39m\u001b[32m~/Projects/sreips/.venv/lib/python3.12/site-packages/httpx/_transports/default.py:250\u001b[39m, in \u001b[36mHTTPTransport.handle_request\u001b[39m\u001b[34m(self, request)\u001b[39m\n\u001b[32m    249\u001b[39m \u001b[38;5;28;01mwith\u001b[39;00m map_httpcore_exceptions():\n\u001b[32m--> \u001b[39m\u001b[32m250\u001b[39m     resp = \u001b[38;5;28;43mself\u001b[39;49m\u001b[43m.\u001b[49m\u001b[43m_pool\u001b[49m\u001b[43m.\u001b[49m\u001b[43mhandle_request\u001b[49m\u001b[43m(\u001b[49m\u001b[43mreq\u001b[49m\u001b[43m)\u001b[49m\n\u001b[32m    252\u001b[39m \u001b[38;5;28;01massert\u001b[39;00m \u001b[38;5;28misinstance\u001b[39m(resp.stream, typing.Iterable)\n",
      "\u001b[36mFile \u001b[39m\u001b[32m~/Projects/sreips/.venv/lib/python3.12/site-packages/httpcore/_sync/connection_pool.py:256\u001b[39m, in \u001b[36mConnectionPool.handle_request\u001b[39m\u001b[34m(self, request)\u001b[39m\n\u001b[32m    255\u001b[39m     \u001b[38;5;28mself\u001b[39m._close_connections(closing)\n\u001b[32m--> \u001b[39m\u001b[32m256\u001b[39m     \u001b[38;5;28;01mraise\u001b[39;00m exc \u001b[38;5;28;01mfrom\u001b[39;00m\u001b[38;5;250m \u001b[39m\u001b[38;5;28;01mNone\u001b[39;00m\n\u001b[32m    258\u001b[39m \u001b[38;5;66;03m# Return the response. Note that in this case we still have to manage\u001b[39;00m\n\u001b[32m    259\u001b[39m \u001b[38;5;66;03m# the point at which the response is closed.\u001b[39;00m\n",
      "\u001b[36mFile \u001b[39m\u001b[32m~/Projects/sreips/.venv/lib/python3.12/site-packages/httpcore/_sync/connection_pool.py:236\u001b[39m, in \u001b[36mConnectionPool.handle_request\u001b[39m\u001b[34m(self, request)\u001b[39m\n\u001b[32m    234\u001b[39m \u001b[38;5;28;01mtry\u001b[39;00m:\n\u001b[32m    235\u001b[39m     \u001b[38;5;66;03m# Send the request on the assigned connection.\u001b[39;00m\n\u001b[32m--> \u001b[39m\u001b[32m236\u001b[39m     response = \u001b[43mconnection\u001b[49m\u001b[43m.\u001b[49m\u001b[43mhandle_request\u001b[49m\u001b[43m(\u001b[49m\n\u001b[32m    237\u001b[39m \u001b[43m        \u001b[49m\u001b[43mpool_request\u001b[49m\u001b[43m.\u001b[49m\u001b[43mrequest\u001b[49m\n\u001b[32m    238\u001b[39m \u001b[43m    \u001b[49m\u001b[43m)\u001b[49m\n\u001b[32m    239\u001b[39m \u001b[38;5;28;01mexcept\u001b[39;00m ConnectionNotAvailable:\n\u001b[32m    240\u001b[39m     \u001b[38;5;66;03m# In some cases a connection may initially be available to\u001b[39;00m\n\u001b[32m    241\u001b[39m     \u001b[38;5;66;03m# handle a request, but then become unavailable.\u001b[39;00m\n\u001b[32m    242\u001b[39m     \u001b[38;5;66;03m#\u001b[39;00m\n\u001b[32m    243\u001b[39m     \u001b[38;5;66;03m# In this case we clear the connection and try again.\u001b[39;00m\n",
      "\u001b[36mFile \u001b[39m\u001b[32m~/Projects/sreips/.venv/lib/python3.12/site-packages/httpcore/_sync/connection.py:101\u001b[39m, in \u001b[36mHTTPConnection.handle_request\u001b[39m\u001b[34m(self, request)\u001b[39m\n\u001b[32m    100\u001b[39m     \u001b[38;5;28mself\u001b[39m._connect_failed = \u001b[38;5;28;01mTrue\u001b[39;00m\n\u001b[32m--> \u001b[39m\u001b[32m101\u001b[39m     \u001b[38;5;28;01mraise\u001b[39;00m exc\n\u001b[32m    103\u001b[39m \u001b[38;5;28;01mreturn\u001b[39;00m \u001b[38;5;28mself\u001b[39m._connection.handle_request(request)\n",
      "\u001b[36mFile \u001b[39m\u001b[32m~/Projects/sreips/.venv/lib/python3.12/site-packages/httpcore/_sync/connection.py:78\u001b[39m, in \u001b[36mHTTPConnection.handle_request\u001b[39m\u001b[34m(self, request)\u001b[39m\n\u001b[32m     77\u001b[39m \u001b[38;5;28;01mif\u001b[39;00m \u001b[38;5;28mself\u001b[39m._connection \u001b[38;5;129;01mis\u001b[39;00m \u001b[38;5;28;01mNone\u001b[39;00m:\n\u001b[32m---> \u001b[39m\u001b[32m78\u001b[39m     stream = \u001b[38;5;28;43mself\u001b[39;49m\u001b[43m.\u001b[49m\u001b[43m_connect\u001b[49m\u001b[43m(\u001b[49m\u001b[43mrequest\u001b[49m\u001b[43m)\u001b[49m\n\u001b[32m     80\u001b[39m     ssl_object = stream.get_extra_info(\u001b[33m\"\u001b[39m\u001b[33mssl_object\u001b[39m\u001b[33m\"\u001b[39m)\n",
      "\u001b[36mFile \u001b[39m\u001b[32m~/Projects/sreips/.venv/lib/python3.12/site-packages/httpcore/_sync/connection.py:124\u001b[39m, in \u001b[36mHTTPConnection._connect\u001b[39m\u001b[34m(self, request)\u001b[39m\n\u001b[32m    123\u001b[39m \u001b[38;5;28;01mwith\u001b[39;00m Trace(\u001b[33m\"\u001b[39m\u001b[33mconnect_tcp\u001b[39m\u001b[33m\"\u001b[39m, logger, request, kwargs) \u001b[38;5;28;01mas\u001b[39;00m trace:\n\u001b[32m--> \u001b[39m\u001b[32m124\u001b[39m     stream = \u001b[38;5;28;43mself\u001b[39;49m\u001b[43m.\u001b[49m\u001b[43m_network_backend\u001b[49m\u001b[43m.\u001b[49m\u001b[43mconnect_tcp\u001b[49m\u001b[43m(\u001b[49m\u001b[43m*\u001b[49m\u001b[43m*\u001b[49m\u001b[43mkwargs\u001b[49m\u001b[43m)\u001b[49m\n\u001b[32m    125\u001b[39m     trace.return_value = stream\n",
      "\u001b[36mFile \u001b[39m\u001b[32m~/Projects/sreips/.venv/lib/python3.12/site-packages/httpcore/_backends/sync.py:207\u001b[39m, in \u001b[36mSyncBackend.connect_tcp\u001b[39m\u001b[34m(self, host, port, timeout, local_address, socket_options)\u001b[39m\n\u001b[32m    202\u001b[39m exc_map: ExceptionMapping = {\n\u001b[32m    203\u001b[39m     socket.timeout: ConnectTimeout,\n\u001b[32m    204\u001b[39m     \u001b[38;5;167;01mOSError\u001b[39;00m: ConnectError,\n\u001b[32m    205\u001b[39m }\n\u001b[32m--> \u001b[39m\u001b[32m207\u001b[39m \u001b[38;5;28;01mwith\u001b[39;00m map_exceptions(exc_map):\n\u001b[32m    208\u001b[39m     sock = socket.create_connection(\n\u001b[32m    209\u001b[39m         address,\n\u001b[32m    210\u001b[39m         timeout,\n\u001b[32m    211\u001b[39m         source_address=source_address,\n\u001b[32m    212\u001b[39m     )\n",
      "\u001b[36mFile \u001b[39m\u001b[32m/opt/homebrew/Cellar/python@3.12/3.12.11/Frameworks/Python.framework/Versions/3.12/lib/python3.12/contextlib.py:158\u001b[39m, in \u001b[36m_GeneratorContextManager.__exit__\u001b[39m\u001b[34m(self, typ, value, traceback)\u001b[39m\n\u001b[32m    157\u001b[39m \u001b[38;5;28;01mtry\u001b[39;00m:\n\u001b[32m--> \u001b[39m\u001b[32m158\u001b[39m     \u001b[38;5;28;43mself\u001b[39;49m\u001b[43m.\u001b[49m\u001b[43mgen\u001b[49m\u001b[43m.\u001b[49m\u001b[43mthrow\u001b[49m\u001b[43m(\u001b[49m\u001b[43mvalue\u001b[49m\u001b[43m)\u001b[49m\n\u001b[32m    159\u001b[39m \u001b[38;5;28;01mexcept\u001b[39;00m \u001b[38;5;167;01mStopIteration\u001b[39;00m \u001b[38;5;28;01mas\u001b[39;00m exc:\n\u001b[32m    160\u001b[39m     \u001b[38;5;66;03m# Suppress StopIteration *unless* it's the same exception that\u001b[39;00m\n\u001b[32m    161\u001b[39m     \u001b[38;5;66;03m# was passed to throw().  This prevents a StopIteration\u001b[39;00m\n\u001b[32m    162\u001b[39m     \u001b[38;5;66;03m# raised inside the \"with\" statement from being suppressed.\u001b[39;00m\n",
      "\u001b[36mFile \u001b[39m\u001b[32m~/Projects/sreips/.venv/lib/python3.12/site-packages/httpcore/_exceptions.py:14\u001b[39m, in \u001b[36mmap_exceptions\u001b[39m\u001b[34m(map)\u001b[39m\n\u001b[32m     13\u001b[39m     \u001b[38;5;28;01mif\u001b[39;00m \u001b[38;5;28misinstance\u001b[39m(exc, from_exc):\n\u001b[32m---> \u001b[39m\u001b[32m14\u001b[39m         \u001b[38;5;28;01mraise\u001b[39;00m to_exc(exc) \u001b[38;5;28;01mfrom\u001b[39;00m\u001b[38;5;250m \u001b[39m\u001b[34;01mexc\u001b[39;00m\n\u001b[32m     15\u001b[39m \u001b[38;5;28;01mraise\u001b[39;00m\n",
      "\u001b[31mConnectError\u001b[39m: [Errno 8] nodename nor servname provided, or not known",
      "\nThe above exception was the direct cause of the following exception:\n",
      "\u001b[31mConnectError\u001b[39m                              Traceback (most recent call last)",
      "\u001b[36mFile \u001b[39m\u001b[32m~/Projects/sreips/.venv/lib/python3.12/site-packages/llama_stack_client/_base_client.py:980\u001b[39m, in \u001b[36mSyncAPIClient.request\u001b[39m\u001b[34m(self, cast_to, options, stream, stream_cls)\u001b[39m\n\u001b[32m    979\u001b[39m \u001b[38;5;28;01mtry\u001b[39;00m:\n\u001b[32m--> \u001b[39m\u001b[32m980\u001b[39m     response = \u001b[38;5;28;43mself\u001b[39;49m\u001b[43m.\u001b[49m\u001b[43m_client\u001b[49m\u001b[43m.\u001b[49m\u001b[43msend\u001b[49m\u001b[43m(\u001b[49m\n\u001b[32m    981\u001b[39m \u001b[43m        \u001b[49m\u001b[43mrequest\u001b[49m\u001b[43m,\u001b[49m\n\u001b[32m    982\u001b[39m \u001b[43m        \u001b[49m\u001b[43mstream\u001b[49m\u001b[43m=\u001b[49m\u001b[43mstream\u001b[49m\u001b[43m \u001b[49m\u001b[38;5;129;43;01mor\u001b[39;49;00m\u001b[43m \u001b[49m\u001b[38;5;28;43mself\u001b[39;49m\u001b[43m.\u001b[49m\u001b[43m_should_stream_response_body\u001b[49m\u001b[43m(\u001b[49m\u001b[43mrequest\u001b[49m\u001b[43m=\u001b[49m\u001b[43mrequest\u001b[49m\u001b[43m)\u001b[49m\u001b[43m,\u001b[49m\n\u001b[32m    983\u001b[39m \u001b[43m        \u001b[49m\u001b[43m*\u001b[49m\u001b[43m*\u001b[49m\u001b[43mkwargs\u001b[49m\u001b[43m,\u001b[49m\n\u001b[32m    984\u001b[39m \u001b[43m    \u001b[49m\u001b[43m)\u001b[49m\n\u001b[32m    985\u001b[39m \u001b[38;5;28;01mexcept\u001b[39;00m httpx.TimeoutException \u001b[38;5;28;01mas\u001b[39;00m err:\n",
      "\u001b[36mFile \u001b[39m\u001b[32m~/Projects/sreips/.venv/lib/python3.12/site-packages/httpx/_client.py:914\u001b[39m, in \u001b[36mClient.send\u001b[39m\u001b[34m(self, request, stream, auth, follow_redirects)\u001b[39m\n\u001b[32m    912\u001b[39m auth = \u001b[38;5;28mself\u001b[39m._build_request_auth(request, auth)\n\u001b[32m--> \u001b[39m\u001b[32m914\u001b[39m response = \u001b[38;5;28;43mself\u001b[39;49m\u001b[43m.\u001b[49m\u001b[43m_send_handling_auth\u001b[49m\u001b[43m(\u001b[49m\n\u001b[32m    915\u001b[39m \u001b[43m    \u001b[49m\u001b[43mrequest\u001b[49m\u001b[43m,\u001b[49m\n\u001b[32m    916\u001b[39m \u001b[43m    \u001b[49m\u001b[43mauth\u001b[49m\u001b[43m=\u001b[49m\u001b[43mauth\u001b[49m\u001b[43m,\u001b[49m\n\u001b[32m    917\u001b[39m \u001b[43m    \u001b[49m\u001b[43mfollow_redirects\u001b[49m\u001b[43m=\u001b[49m\u001b[43mfollow_redirects\u001b[49m\u001b[43m,\u001b[49m\n\u001b[32m    918\u001b[39m \u001b[43m    \u001b[49m\u001b[43mhistory\u001b[49m\u001b[43m=\u001b[49m\u001b[43m[\u001b[49m\u001b[43m]\u001b[49m\u001b[43m,\u001b[49m\n\u001b[32m    919\u001b[39m \u001b[43m\u001b[49m\u001b[43m)\u001b[49m\n\u001b[32m    920\u001b[39m \u001b[38;5;28;01mtry\u001b[39;00m:\n",
      "\u001b[36mFile \u001b[39m\u001b[32m~/Projects/sreips/.venv/lib/python3.12/site-packages/httpx/_client.py:942\u001b[39m, in \u001b[36mClient._send_handling_auth\u001b[39m\u001b[34m(self, request, auth, follow_redirects, history)\u001b[39m\n\u001b[32m    941\u001b[39m \u001b[38;5;28;01mwhile\u001b[39;00m \u001b[38;5;28;01mTrue\u001b[39;00m:\n\u001b[32m--> \u001b[39m\u001b[32m942\u001b[39m     response = \u001b[38;5;28;43mself\u001b[39;49m\u001b[43m.\u001b[49m\u001b[43m_send_handling_redirects\u001b[49m\u001b[43m(\u001b[49m\n\u001b[32m    943\u001b[39m \u001b[43m        \u001b[49m\u001b[43mrequest\u001b[49m\u001b[43m,\u001b[49m\n\u001b[32m    944\u001b[39m \u001b[43m        \u001b[49m\u001b[43mfollow_redirects\u001b[49m\u001b[43m=\u001b[49m\u001b[43mfollow_redirects\u001b[49m\u001b[43m,\u001b[49m\n\u001b[32m    945\u001b[39m \u001b[43m        \u001b[49m\u001b[43mhistory\u001b[49m\u001b[43m=\u001b[49m\u001b[43mhistory\u001b[49m\u001b[43m,\u001b[49m\n\u001b[32m    946\u001b[39m \u001b[43m    \u001b[49m\u001b[43m)\u001b[49m\n\u001b[32m    947\u001b[39m     \u001b[38;5;28;01mtry\u001b[39;00m:\n",
      "\u001b[36mFile \u001b[39m\u001b[32m~/Projects/sreips/.venv/lib/python3.12/site-packages/httpx/_client.py:979\u001b[39m, in \u001b[36mClient._send_handling_redirects\u001b[39m\u001b[34m(self, request, follow_redirects, history)\u001b[39m\n\u001b[32m    977\u001b[39m     hook(request)\n\u001b[32m--> \u001b[39m\u001b[32m979\u001b[39m response = \u001b[38;5;28;43mself\u001b[39;49m\u001b[43m.\u001b[49m\u001b[43m_send_single_request\u001b[49m\u001b[43m(\u001b[49m\u001b[43mrequest\u001b[49m\u001b[43m)\u001b[49m\n\u001b[32m    980\u001b[39m \u001b[38;5;28;01mtry\u001b[39;00m:\n",
      "\u001b[36mFile \u001b[39m\u001b[32m~/Projects/sreips/.venv/lib/python3.12/site-packages/httpx/_client.py:1014\u001b[39m, in \u001b[36mClient._send_single_request\u001b[39m\u001b[34m(self, request)\u001b[39m\n\u001b[32m   1013\u001b[39m \u001b[38;5;28;01mwith\u001b[39;00m request_context(request=request):\n\u001b[32m-> \u001b[39m\u001b[32m1014\u001b[39m     response = \u001b[43mtransport\u001b[49m\u001b[43m.\u001b[49m\u001b[43mhandle_request\u001b[49m\u001b[43m(\u001b[49m\u001b[43mrequest\u001b[49m\u001b[43m)\u001b[49m\n\u001b[32m   1016\u001b[39m \u001b[38;5;28;01massert\u001b[39;00m \u001b[38;5;28misinstance\u001b[39m(response.stream, SyncByteStream)\n",
      "\u001b[36mFile \u001b[39m\u001b[32m~/Projects/sreips/.venv/lib/python3.12/site-packages/httpx/_transports/default.py:249\u001b[39m, in \u001b[36mHTTPTransport.handle_request\u001b[39m\u001b[34m(self, request)\u001b[39m\n\u001b[32m    237\u001b[39m req = httpcore.Request(\n\u001b[32m    238\u001b[39m     method=request.method,\n\u001b[32m    239\u001b[39m     url=httpcore.URL(\n\u001b[32m   (...)\u001b[39m\u001b[32m    247\u001b[39m     extensions=request.extensions,\n\u001b[32m    248\u001b[39m )\n\u001b[32m--> \u001b[39m\u001b[32m249\u001b[39m \u001b[38;5;28;01mwith\u001b[39;00m map_httpcore_exceptions():\n\u001b[32m    250\u001b[39m     resp = \u001b[38;5;28mself\u001b[39m._pool.handle_request(req)\n",
      "\u001b[36mFile \u001b[39m\u001b[32m/opt/homebrew/Cellar/python@3.12/3.12.11/Frameworks/Python.framework/Versions/3.12/lib/python3.12/contextlib.py:158\u001b[39m, in \u001b[36m_GeneratorContextManager.__exit__\u001b[39m\u001b[34m(self, typ, value, traceback)\u001b[39m\n\u001b[32m    157\u001b[39m \u001b[38;5;28;01mtry\u001b[39;00m:\n\u001b[32m--> \u001b[39m\u001b[32m158\u001b[39m     \u001b[38;5;28;43mself\u001b[39;49m\u001b[43m.\u001b[49m\u001b[43mgen\u001b[49m\u001b[43m.\u001b[49m\u001b[43mthrow\u001b[49m\u001b[43m(\u001b[49m\u001b[43mvalue\u001b[49m\u001b[43m)\u001b[49m\n\u001b[32m    159\u001b[39m \u001b[38;5;28;01mexcept\u001b[39;00m \u001b[38;5;167;01mStopIteration\u001b[39;00m \u001b[38;5;28;01mas\u001b[39;00m exc:\n\u001b[32m    160\u001b[39m     \u001b[38;5;66;03m# Suppress StopIteration *unless* it's the same exception that\u001b[39;00m\n\u001b[32m    161\u001b[39m     \u001b[38;5;66;03m# was passed to throw().  This prevents a StopIteration\u001b[39;00m\n\u001b[32m    162\u001b[39m     \u001b[38;5;66;03m# raised inside the \"with\" statement from being suppressed.\u001b[39;00m\n",
      "\u001b[36mFile \u001b[39m\u001b[32m~/Projects/sreips/.venv/lib/python3.12/site-packages/httpx/_transports/default.py:118\u001b[39m, in \u001b[36mmap_httpcore_exceptions\u001b[39m\u001b[34m()\u001b[39m\n\u001b[32m    117\u001b[39m message = \u001b[38;5;28mstr\u001b[39m(exc)\n\u001b[32m--> \u001b[39m\u001b[32m118\u001b[39m \u001b[38;5;28;01mraise\u001b[39;00m mapped_exc(message) \u001b[38;5;28;01mfrom\u001b[39;00m\u001b[38;5;250m \u001b[39m\u001b[34;01mexc\u001b[39;00m\n",
      "\u001b[31mConnectError\u001b[39m: [Errno 8] nodename nor servname provided, or not known",
      "\nThe above exception was the direct cause of the following exception:\n",
      "\u001b[31mAPIConnectionError\u001b[39m                        Traceback (most recent call last)",
      "\u001b[36mCell\u001b[39m\u001b[36m \u001b[39m\u001b[32mIn[200]\u001b[39m\u001b[32m, line 4\u001b[39m\n\u001b[32m      1\u001b[39m \u001b[38;5;28;01mfrom\u001b[39;00m\u001b[38;5;250m \u001b[39m\u001b[34;01mllama_stack_client\u001b[39;00m\u001b[34;01m.\u001b[39;00m\u001b[34;01mlib\u001b[39;00m\u001b[34;01m.\u001b[39;00m\u001b[34;01magents\u001b[39;00m\u001b[34;01m.\u001b[39;00m\u001b[34;01mreact\u001b[39;00m\u001b[34;01m.\u001b[39;00m\u001b[34;01magent\u001b[39;00m\u001b[38;5;250m \u001b[39m\u001b[38;5;28;01mimport\u001b[39;00m ReActAgent\n\u001b[32m      2\u001b[39m \u001b[38;5;28;01mfrom\u001b[39;00m\u001b[38;5;250m \u001b[39m\u001b[34;01mllama_stack_client\u001b[39;00m\u001b[34;01m.\u001b[39;00m\u001b[34;01mlib\u001b[39;00m\u001b[34;01m.\u001b[39;00m\u001b[34;01magents\u001b[39;00m\u001b[34;01m.\u001b[39;00m\u001b[34;01mreact\u001b[39;00m\u001b[34;01m.\u001b[39;00m\u001b[34;01mtool_parser\u001b[39;00m\u001b[38;5;250m \u001b[39m\u001b[38;5;28;01mimport\u001b[39;00m ReActOutput\n\u001b[32m----> \u001b[39m\u001b[32m4\u001b[39m agent = \u001b[43mReActAgent\u001b[49m\u001b[43m(\u001b[49m\n\u001b[32m      5\u001b[39m \u001b[43m            \u001b[49m\u001b[43mclient\u001b[49m\u001b[43m=\u001b[49m\u001b[43mclient\u001b[49m\u001b[43m,\u001b[49m\n\u001b[32m      6\u001b[39m \u001b[43m            \u001b[49m\u001b[43mmodel\u001b[49m\u001b[43m=\u001b[49m\u001b[43mmodel_id\u001b[49m\u001b[43m,\u001b[49m\n\u001b[32m      7\u001b[39m \u001b[43m            \u001b[49m\u001b[43mtools\u001b[49m\u001b[43m=\u001b[49m\u001b[43m[\u001b[49m\n\u001b[32m      8\u001b[39m \u001b[43m                \u001b[49m\u001b[43m{\u001b[49m\n\u001b[32m      9\u001b[39m \u001b[43m                    \u001b[49m\u001b[33;43m\"\u001b[39;49m\u001b[33;43mname\u001b[39;49m\u001b[33;43m\"\u001b[39;49m\u001b[43m:\u001b[49m\u001b[43m \u001b[49m\u001b[33;43m\"\u001b[39;49m\u001b[33;43mbuiltin::rag/knowledge_search\u001b[39;49m\u001b[33;43m\"\u001b[39;49m\u001b[43m,\u001b[49m\n\u001b[32m     10\u001b[39m \u001b[43m                    \u001b[49m\u001b[33;43m\"\u001b[39;49m\u001b[33;43margs\u001b[39;49m\u001b[33;43m\"\u001b[39;49m\u001b[43m:\u001b[49m\u001b[43m \u001b[49m\u001b[43m{\u001b[49m\u001b[33;43m\"\u001b[39;49m\u001b[33;43mvector_db_ids\u001b[39;49m\u001b[33;43m\"\u001b[39;49m\u001b[43m:\u001b[49m\u001b[43m \u001b[49m\u001b[43m[\u001b[49m\u001b[43mvector_db_id\u001b[49m\u001b[43m]\u001b[49m\u001b[43m}\u001b[49m\u001b[43m,\u001b[49m\n\u001b[32m     11\u001b[39m \u001b[43m                \u001b[49m\u001b[43m}\u001b[49m\u001b[43m,\u001b[49m\u001b[43m \u001b[49m\n\u001b[32m     12\u001b[39m \u001b[43m                \u001b[49m\u001b[38;5;66;43;03m# \"mcp::rh-kcs-mcp\",\u001b[39;49;00m\n\u001b[32m     13\u001b[39m \u001b[43m            \u001b[49m\u001b[43m]\u001b[49m\u001b[43m,\u001b[49m\n\u001b[32m     14\u001b[39m \u001b[43m            \u001b[49m\u001b[43mresponse_format\u001b[49m\u001b[43m=\u001b[49m\u001b[43m{\u001b[49m\n\u001b[32m     15\u001b[39m \u001b[43m                \u001b[49m\u001b[33;43m\"\u001b[39;49m\u001b[33;43mtype\u001b[39;49m\u001b[33;43m\"\u001b[39;49m\u001b[43m:\u001b[49m\u001b[43m \u001b[49m\u001b[33;43m\"\u001b[39;49m\u001b[33;43mjson_schema\u001b[39;49m\u001b[33;43m\"\u001b[39;49m\u001b[43m,\u001b[49m\n\u001b[32m     16\u001b[39m \u001b[43m                \u001b[49m\u001b[33;43m\"\u001b[39;49m\u001b[33;43mjson_schema\u001b[39;49m\u001b[33;43m\"\u001b[39;49m\u001b[43m:\u001b[49m\u001b[43m \u001b[49m\u001b[43mReActOutput\u001b[49m\u001b[43m.\u001b[49m\u001b[43mmodel_json_schema\u001b[49m\u001b[43m(\u001b[49m\u001b[43m)\u001b[49m\u001b[43m,\u001b[49m\n\u001b[32m     17\u001b[39m \u001b[43m            \u001b[49m\u001b[43m}\u001b[49m\u001b[43m,\u001b[49m\n\u001b[32m     18\u001b[39m \u001b[43m        \u001b[49m\u001b[43m)\u001b[49m\n\u001b[32m     19\u001b[39m prompt = [\n\u001b[32m     20\u001b[39m     \u001b[33m\"\u001b[39m\u001b[33mUse the rag/knowledge_search tool and find what\u001b[39m\u001b[33m'\u001b[39m\u001b[33ms the resolution for volume attachment failures in OpenShift?\u001b[39m\u001b[33m\"\u001b[39m,\n\u001b[32m     21\u001b[39m     \u001b[33m\"\u001b[39m\u001b[33mThen, based on the answer obtained for the last prompt, enrich it with additional details using rh-kcs-mcp tool.\u001b[39m\u001b[33m\"\u001b[39m,\n\u001b[32m     22\u001b[39m ]\n\u001b[32m     23\u001b[39m session_id = agent.create_session(session_name=\u001b[33mf\u001b[39m\u001b[33m\"\u001b[39m\u001b[33ms\u001b[39m\u001b[38;5;132;01m{\u001b[39;00muuid.uuid4().hex\u001b[38;5;132;01m}\u001b[39;00m\u001b[33m\"\u001b[39m)\n",
      "\u001b[36mFile \u001b[39m\u001b[32m~/Projects/sreips/.venv/lib/python3.12/site-packages/llama_stack_client/lib/agents/react/agent.py:212\u001b[39m, in \u001b[36mReActAgent.__init__\u001b[39m\u001b[34m(self, client, model, tool_parser, instructions, tools, tool_config, sampling_params, max_infer_iters, input_shields, output_shields, response_format, enable_session_persistence, json_response_format, builtin_toolgroups, client_tools, custom_agent_config, extra_headers)\u001b[39m\n\u001b[32m    210\u001b[39m builtin_toolgroups = [x \u001b[38;5;28;01mfor\u001b[39;00m x \u001b[38;5;129;01min\u001b[39;00m tools \u001b[38;5;28;01mif\u001b[39;00m \u001b[38;5;28misinstance\u001b[39m(x, \u001b[38;5;28mstr\u001b[39m) \u001b[38;5;129;01mor\u001b[39;00m \u001b[38;5;28misinstance\u001b[39m(x, \u001b[38;5;28mdict\u001b[39m)]\n\u001b[32m    211\u001b[39m \u001b[38;5;28;01mif\u001b[39;00m \u001b[38;5;129;01mnot\u001b[39;00m instructions:\n\u001b[32m--> \u001b[39m\u001b[32m212\u001b[39m     instructions = \u001b[43mget_default_react_instructions\u001b[49m\u001b[43m(\u001b[49m\u001b[43mclient\u001b[49m\u001b[43m,\u001b[49m\u001b[43m \u001b[49m\u001b[43mbuiltin_toolgroups\u001b[49m\u001b[43m,\u001b[49m\u001b[43m \u001b[49m\u001b[43mclient_tools\u001b[49m\u001b[43m)\u001b[49m\n\u001b[32m    214\u001b[39m \u001b[38;5;28msuper\u001b[39m().\u001b[34m__init__\u001b[39m(\n\u001b[32m    215\u001b[39m     client=client,\n\u001b[32m    216\u001b[39m     model=model,\n\u001b[32m   (...)\u001b[39m\u001b[32m    227\u001b[39m     extra_headers=extra_headers,\n\u001b[32m    228\u001b[39m )\n",
      "\u001b[36mFile \u001b[39m\u001b[32m~/Projects/sreips/.venv/lib/python3.12/site-packages/llama_stack_client/lib/agents/react/agent.py:62\u001b[39m, in \u001b[36mget_default_react_instructions\u001b[39m\u001b[34m(client, builtin_toolgroups, client_tools)\u001b[39m\n\u001b[32m     59\u001b[39m \u001b[38;5;28;01mdef\u001b[39;00m\u001b[38;5;250m \u001b[39m\u001b[34mget_default_react_instructions\u001b[39m(\n\u001b[32m     60\u001b[39m     client: LlamaStackClient, builtin_toolgroups: Tuple[\u001b[38;5;28mstr\u001b[39m] = (), client_tools: Tuple[ClientTool] = ()\n\u001b[32m     61\u001b[39m ):\n\u001b[32m---> \u001b[39m\u001b[32m62\u001b[39m     tool_defs = \u001b[43mget_tool_defs\u001b[49m\u001b[43m(\u001b[49m\u001b[43mclient\u001b[49m\u001b[43m,\u001b[49m\u001b[43m \u001b[49m\u001b[43mbuiltin_toolgroups\u001b[49m\u001b[43m,\u001b[49m\u001b[43m \u001b[49m\u001b[43mclient_tools\u001b[49m\u001b[43m)\u001b[49m\n\u001b[32m     63\u001b[39m     tool_names = \u001b[33m\"\u001b[39m\u001b[33m, \u001b[39m\u001b[33m\"\u001b[39m.join([x[\u001b[33m\"\u001b[39m\u001b[33mname\u001b[39m\u001b[33m\"\u001b[39m] \u001b[38;5;28;01mfor\u001b[39;00m x \u001b[38;5;129;01min\u001b[39;00m tool_defs])\n\u001b[32m     64\u001b[39m     tool_descriptions = \u001b[33m\"\u001b[39m\u001b[38;5;130;01m\\n\u001b[39;00m\u001b[33m\"\u001b[39m.join([\u001b[33mf\u001b[39m\u001b[33m\"\u001b[39m\u001b[33m- \u001b[39m\u001b[38;5;132;01m{\u001b[39;00mx[\u001b[33m'\u001b[39m\u001b[33mname\u001b[39m\u001b[33m'\u001b[39m]\u001b[38;5;132;01m}\u001b[39;00m\u001b[33m: \u001b[39m\u001b[38;5;132;01m{\u001b[39;00mx\u001b[38;5;132;01m}\u001b[39;00m\u001b[33m\"\u001b[39m \u001b[38;5;28;01mfor\u001b[39;00m x \u001b[38;5;129;01min\u001b[39;00m tool_defs])\n",
      "\u001b[36mFile \u001b[39m\u001b[32m~/Projects/sreips/.venv/lib/python3.12/site-packages/llama_stack_client/lib/agents/react/agent.py:42\u001b[39m, in \u001b[36mget_tool_defs\u001b[39m\u001b[34m(client, builtin_toolgroups, client_tools)\u001b[39m\n\u001b[32m     33\u001b[39m     \u001b[38;5;28;01melse\u001b[39;00m:\n\u001b[32m     34\u001b[39m         toolgroup_id = x[\u001b[33m\"\u001b[39m\u001b[33mname\u001b[39m\u001b[33m\"\u001b[39m]\n\u001b[32m     35\u001b[39m     tool_defs.extend(\n\u001b[32m     36\u001b[39m         [\n\u001b[32m     37\u001b[39m             {\n\u001b[32m     38\u001b[39m                 \u001b[33m\"\u001b[39m\u001b[33mname\u001b[39m\u001b[33m\"\u001b[39m: tool.identifier,\n\u001b[32m     39\u001b[39m                 \u001b[33m\"\u001b[39m\u001b[33mdescription\u001b[39m\u001b[33m\"\u001b[39m: tool.description,\n\u001b[32m     40\u001b[39m                 \u001b[33m\"\u001b[39m\u001b[33mparameters\u001b[39m\u001b[33m\"\u001b[39m: tool.parameters,\n\u001b[32m     41\u001b[39m             }\n\u001b[32m---> \u001b[39m\u001b[32m42\u001b[39m             \u001b[38;5;28;01mfor\u001b[39;00m tool \u001b[38;5;129;01min\u001b[39;00m \u001b[43mclient\u001b[49m\u001b[43m.\u001b[49m\u001b[43mtools\u001b[49m\u001b[43m.\u001b[49m\u001b[43mlist\u001b[49m\u001b[43m(\u001b[49m\u001b[43mtoolgroup_id\u001b[49m\u001b[43m=\u001b[49m\u001b[43mtoolgroup_id\u001b[49m\u001b[43m)\u001b[49m\n\u001b[32m     43\u001b[39m         ]\n\u001b[32m     44\u001b[39m     )\n\u001b[32m     46\u001b[39m tool_defs.extend(\n\u001b[32m     47\u001b[39m     [\n\u001b[32m     48\u001b[39m         {\n\u001b[32m   (...)\u001b[39m\u001b[32m     54\u001b[39m     ]\n\u001b[32m     55\u001b[39m )\n\u001b[32m     56\u001b[39m \u001b[38;5;28;01mreturn\u001b[39;00m tool_defs\n",
      "\u001b[36mFile \u001b[39m\u001b[32m~/Projects/sreips/.venv/lib/python3.12/site-packages/llama_stack_client/resources/tools.py:73\u001b[39m, in \u001b[36mToolsResource.list\u001b[39m\u001b[34m(self, toolgroup_id, extra_headers, extra_query, extra_body, timeout)\u001b[39m\n\u001b[32m     48\u001b[39m \u001b[38;5;28;01mdef\u001b[39;00m\u001b[38;5;250m \u001b[39m\u001b[34mlist\u001b[39m(\n\u001b[32m     49\u001b[39m     \u001b[38;5;28mself\u001b[39m,\n\u001b[32m     50\u001b[39m     *,\n\u001b[32m   (...)\u001b[39m\u001b[32m     57\u001b[39m     timeout: \u001b[38;5;28mfloat\u001b[39m | httpx.Timeout | \u001b[38;5;28;01mNone\u001b[39;00m | NotGiven = not_given,\n\u001b[32m     58\u001b[39m ) -> ToolListResponse:\n\u001b[32m     59\u001b[39m \u001b[38;5;250m    \u001b[39m\u001b[33;03m\"\"\"\u001b[39;00m\n\u001b[32m     60\u001b[39m \u001b[33;03m    List tools with optional tool group.\u001b[39;00m\n\u001b[32m     61\u001b[39m \n\u001b[32m   (...)\u001b[39m\u001b[32m     71\u001b[39m \u001b[33;03m      timeout: Override the client-level default timeout for this request, in seconds\u001b[39;00m\n\u001b[32m     72\u001b[39m \u001b[33;03m    \"\"\"\u001b[39;00m\n\u001b[32m---> \u001b[39m\u001b[32m73\u001b[39m     \u001b[38;5;28;01mreturn\u001b[39;00m \u001b[38;5;28;43mself\u001b[39;49m\u001b[43m.\u001b[49m\u001b[43m_get\u001b[49m\u001b[43m(\u001b[49m\n\u001b[32m     74\u001b[39m \u001b[43m        \u001b[49m\u001b[33;43m\"\u001b[39;49m\u001b[33;43m/v1/tools\u001b[39;49m\u001b[33;43m\"\u001b[39;49m\u001b[43m,\u001b[49m\n\u001b[32m     75\u001b[39m \u001b[43m        \u001b[49m\u001b[43moptions\u001b[49m\u001b[43m=\u001b[49m\u001b[43mmake_request_options\u001b[49m\u001b[43m(\u001b[49m\n\u001b[32m     76\u001b[39m \u001b[43m            \u001b[49m\u001b[43mextra_headers\u001b[49m\u001b[43m=\u001b[49m\u001b[43mextra_headers\u001b[49m\u001b[43m,\u001b[49m\n\u001b[32m     77\u001b[39m \u001b[43m            \u001b[49m\u001b[43mextra_query\u001b[49m\u001b[43m=\u001b[49m\u001b[43mextra_query\u001b[49m\u001b[43m,\u001b[49m\n\u001b[32m     78\u001b[39m \u001b[43m            \u001b[49m\u001b[43mextra_body\u001b[49m\u001b[43m=\u001b[49m\u001b[43mextra_body\u001b[49m\u001b[43m,\u001b[49m\n\u001b[32m     79\u001b[39m \u001b[43m            \u001b[49m\u001b[43mtimeout\u001b[49m\u001b[43m=\u001b[49m\u001b[43mtimeout\u001b[49m\u001b[43m,\u001b[49m\n\u001b[32m     80\u001b[39m \u001b[43m            \u001b[49m\u001b[43mquery\u001b[49m\u001b[43m=\u001b[49m\u001b[43mmaybe_transform\u001b[49m\u001b[43m(\u001b[49m\u001b[43m{\u001b[49m\u001b[33;43m\"\u001b[39;49m\u001b[33;43mtoolgroup_id\u001b[39;49m\u001b[33;43m\"\u001b[39;49m\u001b[43m:\u001b[49m\u001b[43m \u001b[49m\u001b[43mtoolgroup_id\u001b[49m\u001b[43m}\u001b[49m\u001b[43m,\u001b[49m\u001b[43m \u001b[49m\u001b[43mtool_list_params\u001b[49m\u001b[43m.\u001b[49m\u001b[43mToolListParams\u001b[49m\u001b[43m)\u001b[49m\u001b[43m,\u001b[49m\n\u001b[32m     81\u001b[39m \u001b[43m            \u001b[49m\u001b[43mpost_parser\u001b[49m\u001b[43m=\u001b[49m\u001b[43mDataWrapper\u001b[49m\u001b[43m[\u001b[49m\u001b[43mToolListResponse\u001b[49m\u001b[43m]\u001b[49m\u001b[43m.\u001b[49m\u001b[43m_unwrapper\u001b[49m\u001b[43m,\u001b[49m\n\u001b[32m     82\u001b[39m \u001b[43m        \u001b[49m\u001b[43m)\u001b[49m\u001b[43m,\u001b[49m\n\u001b[32m     83\u001b[39m \u001b[43m        \u001b[49m\u001b[43mcast_to\u001b[49m\u001b[43m=\u001b[49m\u001b[43mcast\u001b[49m\u001b[43m(\u001b[49m\u001b[43mType\u001b[49m\u001b[43m[\u001b[49m\u001b[43mToolListResponse\u001b[49m\u001b[43m]\u001b[49m\u001b[43m,\u001b[49m\u001b[43m \u001b[49m\u001b[43mDataWrapper\u001b[49m\u001b[43m[\u001b[49m\u001b[43mToolListResponse\u001b[49m\u001b[43m]\u001b[49m\u001b[43m)\u001b[49m\u001b[43m,\u001b[49m\n\u001b[32m     84\u001b[39m \u001b[43m    \u001b[49m\u001b[43m)\u001b[49m\n",
      "\u001b[36mFile \u001b[39m\u001b[32m~/Projects/sreips/.venv/lib/python3.12/site-packages/llama_stack_client/_base_client.py:1188\u001b[39m, in \u001b[36mSyncAPIClient.get\u001b[39m\u001b[34m(self, path, cast_to, options, stream, stream_cls)\u001b[39m\n\u001b[32m   1185\u001b[39m opts = FinalRequestOptions.construct(method=\u001b[33m\"\u001b[39m\u001b[33mget\u001b[39m\u001b[33m\"\u001b[39m, url=path, **options)\n\u001b[32m   1186\u001b[39m \u001b[38;5;66;03m# cast is required because mypy complains about returning Any even though\u001b[39;00m\n\u001b[32m   1187\u001b[39m \u001b[38;5;66;03m# it understands the type variables\u001b[39;00m\n\u001b[32m-> \u001b[39m\u001b[32m1188\u001b[39m \u001b[38;5;28;01mreturn\u001b[39;00m cast(ResponseT, \u001b[38;5;28;43mself\u001b[39;49m\u001b[43m.\u001b[49m\u001b[43mrequest\u001b[49m\u001b[43m(\u001b[49m\u001b[43mcast_to\u001b[49m\u001b[43m,\u001b[49m\u001b[43m \u001b[49m\u001b[43mopts\u001b[49m\u001b[43m,\u001b[49m\u001b[43m \u001b[49m\u001b[43mstream\u001b[49m\u001b[43m=\u001b[49m\u001b[43mstream\u001b[49m\u001b[43m,\u001b[49m\u001b[43m \u001b[49m\u001b[43mstream_cls\u001b[49m\u001b[43m=\u001b[49m\u001b[43mstream_cls\u001b[49m\u001b[43m)\u001b[49m)\n",
      "\u001b[36mFile \u001b[39m\u001b[32m~/Projects/sreips/.venv/lib/python3.12/site-packages/llama_stack_client/_base_client.py:1012\u001b[39m, in \u001b[36mSyncAPIClient.request\u001b[39m\u001b[34m(self, cast_to, options, stream, stream_cls)\u001b[39m\n\u001b[32m   1009\u001b[39m         \u001b[38;5;28;01mcontinue\u001b[39;00m\n\u001b[32m   1011\u001b[39m     log.debug(\u001b[33m\"\u001b[39m\u001b[33mRaising connection error\u001b[39m\u001b[33m\"\u001b[39m)\n\u001b[32m-> \u001b[39m\u001b[32m1012\u001b[39m     \u001b[38;5;28;01mraise\u001b[39;00m APIConnectionError(request=request) \u001b[38;5;28;01mfrom\u001b[39;00m\u001b[38;5;250m \u001b[39m\u001b[34;01merr\u001b[39;00m\n\u001b[32m   1014\u001b[39m log.debug(\n\u001b[32m   1015\u001b[39m     \u001b[33m'\u001b[39m\u001b[33mHTTP Response: \u001b[39m\u001b[38;5;132;01m%s\u001b[39;00m\u001b[33m \u001b[39m\u001b[38;5;132;01m%s\u001b[39;00m\u001b[33m \u001b[39m\u001b[33m\"\u001b[39m\u001b[38;5;132;01m%i\u001b[39;00m\u001b[33m \u001b[39m\u001b[38;5;132;01m%s\u001b[39;00m\u001b[33m\"\u001b[39m\u001b[33m \u001b[39m\u001b[38;5;132;01m%s\u001b[39;00m\u001b[33m'\u001b[39m,\n\u001b[32m   1016\u001b[39m     request.method,\n\u001b[32m   (...)\u001b[39m\u001b[32m   1020\u001b[39m     response.headers,\n\u001b[32m   1021\u001b[39m )\n\u001b[32m   1023\u001b[39m \u001b[38;5;28;01mtry\u001b[39;00m:\n",
      "\u001b[31mAPIConnectionError\u001b[39m: Connection error."
     ]
    }
   ],
   "source": [
    "from llama_stack_client.lib.agents.react.agent import ReActAgent\n",
    "from llama_stack_client.lib.agents.react.tool_parser import ReActOutput\n",
    "\n",
    "agent = ReActAgent(\n",
    "            client=client,\n",
    "            model=model_id,\n",
    "            tools=[\n",
    "                {\n",
    "                    \"name\": \"builtin::rag/knowledge_search\",\n",
    "                    \"args\": {\"vector_db_ids\": [vector_db_id]},\n",
    "                }, \n",
    "                # \"mcp::rh-kcs-mcp\",\n",
    "            ],\n",
    "            response_format={\n",
    "                \"type\": \"json_schema\",\n",
    "                \"json_schema\": ReActOutput.model_json_schema(),\n",
    "            },\n",
    "        )\n",
    "prompt = [\n",
    "    \"Use the rag/knowledge_search tool and find what's the resolution for volume attachment failures in OpenShift?\",\n",
    "    \"Then, based on the answer obtained for the last prompt, enrich it with additional details using rh-kcs-mcp tool.\",\n",
    "]\n",
    "session_id = agent.create_session(session_name=f\"s{uuid.uuid4().hex}\")\n",
    "for p in prompt:\n",
    "    response = agent.create_turn(\n",
    "            messages=[{\"role\": \"user\",\"content\": p,}],\n",
    "            session_id=session_id,\n",
    "        )\n",
    "\n",
    "for log in AgentEventLogger().log(response):\n",
    "    log.print()"
   ]
  },
  {
   "cell_type": "code",
   "execution_count": null,
   "metadata": {},
   "outputs": [
    {
     "name": "stderr",
     "output_type": "stream",
     "text": [
      "INFO:httpx:HTTP Request: POST https://lls-route-llamastack.apps.cluster-5tptd.5tptd.sandbox2399.opentlc.com/v1/agents \"HTTP/1.1 200 OK\"\n",
      "INFO:httpx:HTTP Request: GET https://lls-route-llamastack.apps.cluster-5tptd.5tptd.sandbox2399.opentlc.com/v1/tools?toolgroup_id=builtin%3A%3Arag%2Fknowledge_search \"HTTP/1.1 200 OK\"\n",
      "INFO:httpx:HTTP Request: GET https://lls-route-llamastack.apps.cluster-5tptd.5tptd.sandbox2399.opentlc.com/v1/tools?toolgroup_id=mcp%3A%3Arh-kcs-mcp \"HTTP/1.1 200 OK\"\n",
      "INFO:httpx:HTTP Request: POST https://lls-route-llamastack.apps.cluster-5tptd.5tptd.sandbox2399.opentlc.com/v1/agents/994ad605-db10-48e0-8780-a32a99c4ea51/session \"HTTP/1.1 200 OK\"\n"
     ]
    },
    {
     "name": "stdout",
     "output_type": "stream",
     "text": [
      "\n",
      "--- NEW PROMPT ---\n",
      " Find the resolution for volume attachment failures in Kubernetes. \n"
     ]
    },
    {
     "name": "stderr",
     "output_type": "stream",
     "text": [
      "INFO:httpx:HTTP Request: POST https://lls-route-llamastack.apps.cluster-5tptd.5tptd.sandbox2399.opentlc.com/v1/agents/994ad605-db10-48e0-8780-a32a99c4ea51/session/53ebde5c-5588-477f-a917-735b346622e8/turn \"HTTP/1.1 200 OK\"\n"
     ]
    },
    {
     "name": "stdout",
     "output_type": "stream",
     "text": [
      "\u001b[33minference> \u001b[0m\u001b[33m{\u001b[0m\u001b[33m \n",
      "\u001b[0m\u001b[33m   \u001b[0m\u001b[33m \"\u001b[0m\u001b[33mt\u001b[0m\u001b[33mhou\u001b[0m\u001b[33mght\u001b[0m\u001b[33m\":\u001b[0m\u001b[33m \"\u001b[0m\u001b[33mFirst\u001b[0m\u001b[33m,\u001b[0m\u001b[33m I\u001b[0m\u001b[33m will\u001b[0m\u001b[33m use\u001b[0m\u001b[33m the\u001b[0m\u001b[33m knowledge\u001b[0m\u001b[33m_search\u001b[0m\u001b[33m tool\u001b[0m\u001b[33m to\u001b[0m\u001b[33m find\u001b[0m\u001b[33m information\u001b[0m\u001b[33m about\u001b[0m\u001b[33m volume\u001b[0m\u001b[33m attachment\u001b[0m\u001b[33m failures\u001b[0m\u001b[33m in\u001b[0m\u001b[33m Kubernetes\u001b[0m\u001b[33m.\"\n",
      "\u001b[0m\u001b[33m   \u001b[0m\u001b[33m ,\u001b[0m\u001b[33m \"\u001b[0m\u001b[33maction\u001b[0m\u001b[33m\":\u001b[0m\u001b[33m \u001b[0m\u001b[33m \u001b[0m\u001b[33m\t\u001b[0m\u001b[33m{\n",
      "\u001b[0m\u001b[33m       \u001b[0m\u001b[33m \"\u001b[0m\u001b[33mtool\u001b[0m\u001b[33m_name\u001b[0m\u001b[33m\":\u001b[0m\u001b[33m \u001b[0m\u001b[33m \"\u001b[0m\u001b[33mknowledge\u001b[0m\u001b[33m_search\u001b[0m\u001b[33m\",\n",
      "\u001b[0m\u001b[33m       \u001b[0m\u001b[33m \"\u001b[0m\u001b[33mtool\u001b[0m\u001b[33m_params\u001b[0m\u001b[33m\":\u001b[0m\u001b[33m \u001b[0m\u001b[33m\t\u001b[0m\u001b[33m[\u001b[0m\u001b[33m \n",
      "\u001b[0m\u001b[33m           \u001b[0m\u001b[33m {\u001b[0m\u001b[33m \n",
      "\u001b[0m\u001b[33m               \u001b[0m\u001b[33m \"\u001b[0m\u001b[33mname\u001b[0m\u001b[33m\":\u001b[0m\u001b[33m \u001b[0m\u001b[33m \"\u001b[0m\u001b[33mquery\u001b[0m\u001b[33m\",\n",
      "\u001b[0m\u001b[33m               \u001b[0m\u001b[33m \"\u001b[0m\u001b[33mvalue\u001b[0m\u001b[33m\":\u001b[0m\u001b[33m \u001b[0m\u001b[33m \"\u001b[0m\u001b[33mKubernetes\u001b[0m\u001b[33m volume\u001b[0m\u001b[33m attachment\u001b[0m\u001b[33m failure\u001b[0m\u001b[33m resolution\u001b[0m\u001b[33m\"\n",
      "\u001b[0m\u001b[33m           \u001b[0m\u001b[33m }\n",
      "\u001b[0m\u001b[33m       \u001b[0m\u001b[33m ]\n",
      "\u001b[0m\u001b[33m   \u001b[0m\u001b[33m }\n",
      "\u001b[0m\u001b[33m   \u001b[0m\u001b[33m ,\u001b[0m\u001b[33m \"\u001b[0m\u001b[33ma\u001b[0m\u001b[33mns\u001b[0m\u001b[33mwe\u001b[0m\u001b[33mr\u001b[0m\u001b[33m\":\u001b[0m\u001b[33m \u001b[0m\u001b[33m \"\u001b[0m\u001b[33mThe\u001b[0m\u001b[33m tool\u001b[0m\u001b[33m has\u001b[0m\u001b[33m been\u001b[0m\u001b[33m called\u001b[0m\u001b[33m.\"\n",
      "\u001b[0m\u001b[33m}\u001b[0m\u001b[33m\u001b[0m\u001b[97m\u001b[0m\n",
      "\u001b[30m\u001b[0m\n",
      "============================\n",
      "FINAL ASSISTANT RESPONSE (RAG → MCP Combined Output):\n",
      "============================\n",
      "(No final message returned)\n"
     ]
    }
   ],
   "source": [
    "from llama_stack_client.lib.agents.react.agent import ReActAgent\n",
    "from llama_stack_client.lib.agents.react.tool_parser import ReActOutput\n",
    "\n",
    "# --- Create ReAct agent with both tools ---\n",
    "\n",
    "react_agent = ReActAgent(\n",
    "    client=client,\n",
    "    model=model_id,\n",
    "    instructions=(\n",
    "            \"You MUST follow this exact two-step process:\\n\"\n",
    "            \"1) Call the tool `knowledge_search` to retrieve internal KB context (use the query exactly as asked).\\n\"\n",
    "            \"2) After you receive the knowledge_search results, call the tool `mcp::rh-kcs-mcp` to search the external KCS articles, \"\n",
    "            \"so you can cross-check the internal context and add public references.\\n\"\n",
    "            \"Do not try to answer before both tool calls are completed. If the first tool returns nothing, still call the second tool.\\n\"\n",
    "            \"Finally, synthesize a single, short answer and list the sources from both tools.\"\n",
    "        ),\n",
    "    tools=[\n",
    "        {\n",
    "            \"name\": \"builtin::rag/knowledge_search\",\n",
    "            \"args\": {\"vector_db_ids\": [vector_db_id]},\n",
    "        },\n",
    "        {\n",
    "            \"name\": \"mcp::rh-kcs-mcp\",\n",
    "            \"args\": {},\n",
    "        },\n",
    "    ],\n",
    "    response_format={\n",
    "            \"type\": \"json_schema\",\n",
    "            \"json_schema\": ReActOutput.model_json_schema(),\n",
    "        },\n",
    "    )\n",
    "\n",
    "input_prompt = [\n",
    "        \"Find the resolution for volume attachment failures in Kubernetes. \",\n",
    "    ]\n",
    "\n",
    "session_id = react_agent.create_session(session_name=f\"s{uuid.uuid4().hex}\")\n",
    "\n",
    "# --- STREAMING TURN ---\n",
    "for prompt in input_prompt:\n",
    "    print(\"\\n--- NEW PROMPT ---\\n\", prompt)\n",
    "    response_stream = react_agent.create_turn(\n",
    "            messages=[{\"role\": \"user\", \"content\": prompt}],\n",
    "            session_id=session_id,\n",
    "        )\n",
    "\n",
    "# --- LOG + CAPTURE FINAL MESSAGE ---\n",
    "\n",
    "final_output = None\n",
    "logger = AgentEventLogger()\n",
    "\n",
    "for event in logger.log(response_stream):\n",
    "    event.print()\n",
    "if event.role == \"assistant\" and event.content:\n",
    "    final_output = event.content\n",
    "\n",
    "# --- PRINT CLEAN FINAL MESSAGE ---\n",
    "\n",
    "print(\"\\n============================\")\n",
    "print(\"FINAL ASSISTANT RESPONSE (RAG → MCP Combined Output):\")\n",
    "print(\"============================\")\n",
    "print(final_output or \"(No final message returned)\")\n"
   ]
  }
 ],
 "metadata": {
  "kernelspec": {
   "display_name": ".venv",
   "language": "python",
   "name": "python3"
  },
  "language_info": {
   "codemirror_mode": {
    "name": "ipython",
    "version": 3
   },
   "file_extension": ".py",
   "mimetype": "text/x-python",
   "name": "python",
   "nbconvert_exporter": "python",
   "pygments_lexer": "ipython3",
   "version": "3.12.11"
  }
 },
 "nbformat": 4,
 "nbformat_minor": 2
}
